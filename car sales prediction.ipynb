{
 "cells": [
  {
   "cell_type": "markdown",
   "id": "000a5592",
   "metadata": {
    "papermill": {
     "duration": 0.006385,
     "end_time": "2025-03-11T15:13:07.549824",
     "exception": false,
     "start_time": "2025-03-11T15:13:07.543439",
     "status": "completed"
    },
    "tags": []
   },
   "source": [
    "# Import needed libraries"
   ]
  },
  {
   "cell_type": "code",
   "execution_count": 1,
   "id": "295e6464",
   "metadata": {
    "_cell_guid": "b1076dfc-b9ad-4769-8c92-a6c4dae69d19",
    "_uuid": "8f2839f25d086af736a60e9eeb907d3b93b6e0e5",
    "execution": {
     "iopub.execute_input": "2025-03-11T15:13:07.565077Z",
     "iopub.status.busy": "2025-03-11T15:13:07.564507Z",
     "iopub.status.idle": "2025-03-11T15:13:27.887208Z",
     "shell.execute_reply": "2025-03-11T15:13:27.885975Z"
    },
    "papermill": {
     "duration": 20.333906,
     "end_time": "2025-03-11T15:13:27.889545",
     "exception": false,
     "start_time": "2025-03-11T15:13:07.555639",
     "status": "completed"
    },
    "tags": []
   },
   "outputs": [],
   "source": [
    "import numpy as np\n",
    "import pandas as pd\n",
    "import matplotlib.pyplot as plt\n",
    "import seaborn as sns\n",
    "from tensorflow.keras.models import Sequential\n",
    "from tensorflow.keras.layers import Dense"
   ]
  },
  {
   "cell_type": "markdown",
   "id": "166dce07",
   "metadata": {
    "papermill": {
     "duration": 0.006675,
     "end_time": "2025-03-11T15:13:27.903313",
     "exception": false,
     "start_time": "2025-03-11T15:13:27.896638",
     "status": "completed"
    },
    "tags": []
   },
   "source": [
    "# Data Preprocessing"
   ]
  },
  {
   "cell_type": "markdown",
   "id": "ae584b13",
   "metadata": {
    "papermill": {
     "duration": 0.00578,
     "end_time": "2025-03-11T15:13:27.916045",
     "exception": false,
     "start_time": "2025-03-11T15:13:27.910265",
     "status": "completed"
    },
    "tags": []
   },
   "source": [
    "**Read data**"
   ]
  },
  {
   "cell_type": "code",
   "execution_count": 2,
   "id": "697489fb",
   "metadata": {
    "execution": {
     "iopub.execute_input": "2025-03-11T15:13:27.930778Z",
     "iopub.status.busy": "2025-03-11T15:13:27.929930Z",
     "iopub.status.idle": "2025-03-11T15:13:27.973654Z",
     "shell.execute_reply": "2025-03-11T15:13:27.972184Z"
    },
    "papermill": {
     "duration": 0.053166,
     "end_time": "2025-03-11T15:13:27.975530",
     "exception": false,
     "start_time": "2025-03-11T15:13:27.922364",
     "status": "completed"
    },
    "tags": []
   },
   "outputs": [
    {
     "name": "stdout",
     "output_type": "stream",
     "text": [
      "     customer name                                    customer e-mail  \\\n",
      "0    Martina Avila  cubilia.Curae.Phasellus@quisaccumsanconvallis.edu   \n",
      "1    Harlan Barnes                                eu.dolor@diam.co.uk   \n",
      "2  Naomi Rodriquez  vulputate.mauris.sagittis@ametconsectetueradip...   \n",
      "3  Jade Cunningham                            malesuada@dignissim.com   \n",
      "4     Cedric Leach     felis.ullamcorper.viverra@egetmollislectus.net   \n",
      "\n",
      "        country  gender        age  annual Salary  credit card debt  \\\n",
      "0      Bulgaria       0  41.851720    62812.09301      11609.380910   \n",
      "1        Belize       0  40.870623    66646.89292       9572.957136   \n",
      "2       Algeria       1  43.152897    53798.55112      11160.355060   \n",
      "3  Cook Islands       1  58.271369    79370.03798      14426.164850   \n",
      "4        Brazil       1  57.313749    59729.15130       5358.712177   \n",
      "\n",
      "     net worth  car purchase amount  \n",
      "0  238961.2505          35321.45877  \n",
      "1  530973.9078          45115.52566  \n",
      "2  638467.1773          42925.70921  \n",
      "3  548599.0524          67422.36313  \n",
      "4  560304.0671          55915.46248  \n"
     ]
    }
   ],
   "source": [
    "df = pd.read_csv('/kaggle/input/ann-car-sales-price-prediction/car_purchasing.csv', encoding='ISO-8859-1')\n",
    "\n",
    "# Check the first few rows of the dataset\n",
    "print(df.head())"
   ]
  },
  {
   "cell_type": "code",
   "execution_count": 3,
   "id": "5308e253",
   "metadata": {
    "execution": {
     "iopub.execute_input": "2025-03-11T15:13:27.989601Z",
     "iopub.status.busy": "2025-03-11T15:13:27.989123Z",
     "iopub.status.idle": "2025-03-11T15:13:28.023385Z",
     "shell.execute_reply": "2025-03-11T15:13:28.021871Z"
    },
    "papermill": {
     "duration": 0.043776,
     "end_time": "2025-03-11T15:13:28.025773",
     "exception": false,
     "start_time": "2025-03-11T15:13:27.981997",
     "status": "completed"
    },
    "tags": []
   },
   "outputs": [
    {
     "name": "stdout",
     "output_type": "stream",
     "text": [
      "<class 'pandas.core.frame.DataFrame'>\n",
      "RangeIndex: 500 entries, 0 to 499\n",
      "Data columns (total 9 columns):\n",
      " #   Column               Non-Null Count  Dtype  \n",
      "---  ------               --------------  -----  \n",
      " 0   customer name        500 non-null    object \n",
      " 1   customer e-mail      500 non-null    object \n",
      " 2   country              500 non-null    object \n",
      " 3   gender               500 non-null    int64  \n",
      " 4   age                  500 non-null    float64\n",
      " 5   annual Salary        500 non-null    float64\n",
      " 6   credit card debt     500 non-null    float64\n",
      " 7   net worth            500 non-null    float64\n",
      " 8   car purchase amount  500 non-null    float64\n",
      "dtypes: float64(5), int64(1), object(3)\n",
      "memory usage: 35.3+ KB\n"
     ]
    }
   ],
   "source": [
    "df.info()"
   ]
  },
  {
   "cell_type": "code",
   "execution_count": 4,
   "id": "eb3ffe67",
   "metadata": {
    "execution": {
     "iopub.execute_input": "2025-03-11T15:13:28.040432Z",
     "iopub.status.busy": "2025-03-11T15:13:28.040036Z",
     "iopub.status.idle": "2025-03-11T15:13:28.049877Z",
     "shell.execute_reply": "2025-03-11T15:13:28.048444Z"
    },
    "papermill": {
     "duration": 0.019972,
     "end_time": "2025-03-11T15:13:28.052198",
     "exception": false,
     "start_time": "2025-03-11T15:13:28.032226",
     "status": "completed"
    },
    "tags": []
   },
   "outputs": [
    {
     "data": {
      "text/plain": [
       "customer name          0\n",
       "customer e-mail        0\n",
       "country                0\n",
       "gender                 0\n",
       "age                    0\n",
       "annual Salary          0\n",
       "credit card debt       0\n",
       "net worth              0\n",
       "car purchase amount    0\n",
       "dtype: int64"
      ]
     },
     "execution_count": 4,
     "metadata": {},
     "output_type": "execute_result"
    }
   ],
   "source": [
    "df.isnull().sum()"
   ]
  },
  {
   "cell_type": "code",
   "execution_count": 5,
   "id": "38a2856b",
   "metadata": {
    "execution": {
     "iopub.execute_input": "2025-03-11T15:13:28.068633Z",
     "iopub.status.busy": "2025-03-11T15:13:28.067461Z",
     "iopub.status.idle": "2025-03-11T15:13:28.077632Z",
     "shell.execute_reply": "2025-03-11T15:13:28.076243Z"
    },
    "papermill": {
     "duration": 0.020877,
     "end_time": "2025-03-11T15:13:28.079951",
     "exception": false,
     "start_time": "2025-03-11T15:13:28.059074",
     "status": "completed"
    },
    "tags": []
   },
   "outputs": [
    {
     "data": {
      "text/plain": [
       "0"
      ]
     },
     "execution_count": 5,
     "metadata": {},
     "output_type": "execute_result"
    }
   ],
   "source": [
    "df.duplicated().sum()\n"
   ]
  },
  {
   "cell_type": "code",
   "execution_count": 6,
   "id": "25b30222",
   "metadata": {
    "execution": {
     "iopub.execute_input": "2025-03-11T15:13:28.095674Z",
     "iopub.status.busy": "2025-03-11T15:13:28.095126Z",
     "iopub.status.idle": "2025-03-11T15:13:28.135748Z",
     "shell.execute_reply": "2025-03-11T15:13:28.134419Z"
    },
    "papermill": {
     "duration": 0.050995,
     "end_time": "2025-03-11T15:13:28.137732",
     "exception": false,
     "start_time": "2025-03-11T15:13:28.086737",
     "status": "completed"
    },
    "tags": []
   },
   "outputs": [
    {
     "data": {
      "text/html": [
       "<div>\n",
       "<style scoped>\n",
       "    .dataframe tbody tr th:only-of-type {\n",
       "        vertical-align: middle;\n",
       "    }\n",
       "\n",
       "    .dataframe tbody tr th {\n",
       "        vertical-align: top;\n",
       "    }\n",
       "\n",
       "    .dataframe thead th {\n",
       "        text-align: right;\n",
       "    }\n",
       "</style>\n",
       "<table border=\"1\" class=\"dataframe\">\n",
       "  <thead>\n",
       "    <tr style=\"text-align: right;\">\n",
       "      <th></th>\n",
       "      <th>gender</th>\n",
       "      <th>age</th>\n",
       "      <th>annual Salary</th>\n",
       "      <th>credit card debt</th>\n",
       "      <th>net worth</th>\n",
       "      <th>car purchase amount</th>\n",
       "    </tr>\n",
       "  </thead>\n",
       "  <tbody>\n",
       "    <tr>\n",
       "      <th>count</th>\n",
       "      <td>500.000000</td>\n",
       "      <td>500.000000</td>\n",
       "      <td>500.000000</td>\n",
       "      <td>500.000000</td>\n",
       "      <td>500.000000</td>\n",
       "      <td>500.000000</td>\n",
       "    </tr>\n",
       "    <tr>\n",
       "      <th>mean</th>\n",
       "      <td>0.506000</td>\n",
       "      <td>46.241674</td>\n",
       "      <td>62127.239608</td>\n",
       "      <td>9607.645049</td>\n",
       "      <td>431475.713625</td>\n",
       "      <td>44209.799218</td>\n",
       "    </tr>\n",
       "    <tr>\n",
       "      <th>std</th>\n",
       "      <td>0.500465</td>\n",
       "      <td>7.978862</td>\n",
       "      <td>11703.378228</td>\n",
       "      <td>3489.187973</td>\n",
       "      <td>173536.756340</td>\n",
       "      <td>10773.178744</td>\n",
       "    </tr>\n",
       "    <tr>\n",
       "      <th>min</th>\n",
       "      <td>0.000000</td>\n",
       "      <td>20.000000</td>\n",
       "      <td>20000.000000</td>\n",
       "      <td>100.000000</td>\n",
       "      <td>20000.000000</td>\n",
       "      <td>9000.000000</td>\n",
       "    </tr>\n",
       "    <tr>\n",
       "      <th>25%</th>\n",
       "      <td>0.000000</td>\n",
       "      <td>40.949969</td>\n",
       "      <td>54391.977195</td>\n",
       "      <td>7397.515792</td>\n",
       "      <td>299824.195900</td>\n",
       "      <td>37629.896040</td>\n",
       "    </tr>\n",
       "    <tr>\n",
       "      <th>50%</th>\n",
       "      <td>1.000000</td>\n",
       "      <td>46.049901</td>\n",
       "      <td>62915.497035</td>\n",
       "      <td>9655.035568</td>\n",
       "      <td>426750.120650</td>\n",
       "      <td>43997.783390</td>\n",
       "    </tr>\n",
       "    <tr>\n",
       "      <th>75%</th>\n",
       "      <td>1.000000</td>\n",
       "      <td>51.612263</td>\n",
       "      <td>70117.862005</td>\n",
       "      <td>11798.867487</td>\n",
       "      <td>557324.478725</td>\n",
       "      <td>51254.709517</td>\n",
       "    </tr>\n",
       "    <tr>\n",
       "      <th>max</th>\n",
       "      <td>1.000000</td>\n",
       "      <td>70.000000</td>\n",
       "      <td>100000.000000</td>\n",
       "      <td>20000.000000</td>\n",
       "      <td>1000000.000000</td>\n",
       "      <td>80000.000000</td>\n",
       "    </tr>\n",
       "  </tbody>\n",
       "</table>\n",
       "</div>"
      ],
      "text/plain": [
       "           gender         age  annual Salary  credit card debt  \\\n",
       "count  500.000000  500.000000     500.000000        500.000000   \n",
       "mean     0.506000   46.241674   62127.239608       9607.645049   \n",
       "std      0.500465    7.978862   11703.378228       3489.187973   \n",
       "min      0.000000   20.000000   20000.000000        100.000000   \n",
       "25%      0.000000   40.949969   54391.977195       7397.515792   \n",
       "50%      1.000000   46.049901   62915.497035       9655.035568   \n",
       "75%      1.000000   51.612263   70117.862005      11798.867487   \n",
       "max      1.000000   70.000000  100000.000000      20000.000000   \n",
       "\n",
       "            net worth  car purchase amount  \n",
       "count      500.000000           500.000000  \n",
       "mean    431475.713625         44209.799218  \n",
       "std     173536.756340         10773.178744  \n",
       "min      20000.000000          9000.000000  \n",
       "25%     299824.195900         37629.896040  \n",
       "50%     426750.120650         43997.783390  \n",
       "75%     557324.478725         51254.709517  \n",
       "max    1000000.000000         80000.000000  "
      ]
     },
     "execution_count": 6,
     "metadata": {},
     "output_type": "execute_result"
    }
   ],
   "source": [
    "df.describe()"
   ]
  },
  {
   "cell_type": "code",
   "execution_count": 7,
   "id": "cbe2afd8",
   "metadata": {
    "execution": {
     "iopub.execute_input": "2025-03-11T15:13:28.152696Z",
     "iopub.status.busy": "2025-03-11T15:13:28.152196Z",
     "iopub.status.idle": "2025-03-11T15:13:28.164328Z",
     "shell.execute_reply": "2025-03-11T15:13:28.163064Z"
    },
    "papermill": {
     "duration": 0.021889,
     "end_time": "2025-03-11T15:13:28.166305",
     "exception": false,
     "start_time": "2025-03-11T15:13:28.144416",
     "status": "completed"
    },
    "tags": []
   },
   "outputs": [
    {
     "data": {
      "text/plain": [
       "0    42\n",
       "1    41\n",
       "2    43\n",
       "3    58\n",
       "4    57\n",
       "5    57\n",
       "6    47\n",
       "7    50\n",
       "8    47\n",
       "9    43\n",
       "Name: age, dtype: int32"
      ]
     },
     "execution_count": 7,
     "metadata": {},
     "output_type": "execute_result"
    }
   ],
   "source": [
    "df['age']=df['age'].round(0)\n",
    "df['age']=df['age'].astype('int32')\n",
    "df['age'].head(10)"
   ]
  },
  {
   "cell_type": "code",
   "execution_count": 8,
   "id": "00581fa3",
   "metadata": {
    "execution": {
     "iopub.execute_input": "2025-03-11T15:13:28.180931Z",
     "iopub.status.busy": "2025-03-11T15:13:28.180478Z",
     "iopub.status.idle": "2025-03-11T15:13:28.196752Z",
     "shell.execute_reply": "2025-03-11T15:13:28.195426Z"
    },
    "papermill": {
     "duration": 0.025864,
     "end_time": "2025-03-11T15:13:28.198707",
     "exception": false,
     "start_time": "2025-03-11T15:13:28.172843",
     "status": "completed"
    },
    "tags": []
   },
   "outputs": [
    {
     "data": {
      "text/html": [
       "<div>\n",
       "<style scoped>\n",
       "    .dataframe tbody tr th:only-of-type {\n",
       "        vertical-align: middle;\n",
       "    }\n",
       "\n",
       "    .dataframe tbody tr th {\n",
       "        vertical-align: top;\n",
       "    }\n",
       "\n",
       "    .dataframe thead th {\n",
       "        text-align: right;\n",
       "    }\n",
       "</style>\n",
       "<table border=\"1\" class=\"dataframe\">\n",
       "  <thead>\n",
       "    <tr style=\"text-align: right;\">\n",
       "      <th></th>\n",
       "      <th>country</th>\n",
       "      <th>count</th>\n",
       "    </tr>\n",
       "  </thead>\n",
       "  <tbody>\n",
       "    <tr>\n",
       "      <th>0</th>\n",
       "      <td>Israel</td>\n",
       "      <td>6</td>\n",
       "    </tr>\n",
       "    <tr>\n",
       "      <th>2</th>\n",
       "      <td>Bolivia</td>\n",
       "      <td>6</td>\n",
       "    </tr>\n",
       "    <tr>\n",
       "      <th>1</th>\n",
       "      <td>Mauritania</td>\n",
       "      <td>6</td>\n",
       "    </tr>\n",
       "    <tr>\n",
       "      <th>9</th>\n",
       "      <td>Bhutan</td>\n",
       "      <td>5</td>\n",
       "    </tr>\n",
       "    <tr>\n",
       "      <th>15</th>\n",
       "      <td>Armenia</td>\n",
       "      <td>5</td>\n",
       "    </tr>\n",
       "    <tr>\n",
       "      <th>...</th>\n",
       "      <td>...</td>\n",
       "      <td>...</td>\n",
       "    </tr>\n",
       "    <tr>\n",
       "      <th>175</th>\n",
       "      <td>Honduras</td>\n",
       "      <td>1</td>\n",
       "    </tr>\n",
       "    <tr>\n",
       "      <th>176</th>\n",
       "      <td>Mexico</td>\n",
       "      <td>1</td>\n",
       "    </tr>\n",
       "    <tr>\n",
       "      <th>177</th>\n",
       "      <td>Rwanda</td>\n",
       "      <td>1</td>\n",
       "    </tr>\n",
       "    <tr>\n",
       "      <th>178</th>\n",
       "      <td>Tonga</td>\n",
       "      <td>1</td>\n",
       "    </tr>\n",
       "    <tr>\n",
       "      <th>210</th>\n",
       "      <td>marlal</td>\n",
       "      <td>1</td>\n",
       "    </tr>\n",
       "  </tbody>\n",
       "</table>\n",
       "<p>211 rows × 2 columns</p>\n",
       "</div>"
      ],
      "text/plain": [
       "        country  count\n",
       "0        Israel      6\n",
       "2       Bolivia      6\n",
       "1    Mauritania      6\n",
       "9        Bhutan      5\n",
       "15      Armenia      5\n",
       "..          ...    ...\n",
       "175    Honduras      1\n",
       "176      Mexico      1\n",
       "177      Rwanda      1\n",
       "178       Tonga      1\n",
       "210      marlal      1\n",
       "\n",
       "[211 rows x 2 columns]"
      ]
     },
     "execution_count": 8,
     "metadata": {},
     "output_type": "execute_result"
    }
   ],
   "source": [
    "df['country'].value_counts().reset_index().sort_values(by='count',ascending=False)"
   ]
  },
  {
   "cell_type": "code",
   "execution_count": 9,
   "id": "3e183a62",
   "metadata": {
    "execution": {
     "iopub.execute_input": "2025-03-11T15:13:28.214619Z",
     "iopub.status.busy": "2025-03-11T15:13:28.214238Z",
     "iopub.status.idle": "2025-03-11T15:13:28.223318Z",
     "shell.execute_reply": "2025-03-11T15:13:28.221880Z"
    },
    "papermill": {
     "duration": 0.019414,
     "end_time": "2025-03-11T15:13:28.225535",
     "exception": false,
     "start_time": "2025-03-11T15:13:28.206121",
     "status": "completed"
    },
    "tags": []
   },
   "outputs": [
    {
     "data": {
      "text/plain": [
       "0    62812.09\n",
       "1    66646.89\n",
       "2    53798.55\n",
       "3    79370.04\n",
       "4    59729.15\n",
       "Name: annual Salary, dtype: float64"
      ]
     },
     "execution_count": 9,
     "metadata": {},
     "output_type": "execute_result"
    }
   ],
   "source": [
    "df['annual Salary']=df['annual Salary'].round(2)\n",
    "df['annual Salary'].head()"
   ]
  },
  {
   "cell_type": "code",
   "execution_count": 10,
   "id": "ece2ab3d",
   "metadata": {
    "execution": {
     "iopub.execute_input": "2025-03-11T15:13:28.242235Z",
     "iopub.status.busy": "2025-03-11T15:13:28.241797Z",
     "iopub.status.idle": "2025-03-11T15:13:28.253339Z",
     "shell.execute_reply": "2025-03-11T15:13:28.251689Z"
    },
    "papermill": {
     "duration": 0.022807,
     "end_time": "2025-03-11T15:13:28.255568",
     "exception": false,
     "start_time": "2025-03-11T15:13:28.232761",
     "status": "completed"
    },
    "tags": []
   },
   "outputs": [
    {
     "data": {
      "text/plain": [
       "gender\n",
       "1    253\n",
       "0    247\n",
       "Name: count, dtype: int64"
      ]
     },
     "execution_count": 10,
     "metadata": {},
     "output_type": "execute_result"
    }
   ],
   "source": [
    "df[\"gender\"].value_counts()"
   ]
  },
  {
   "cell_type": "code",
   "execution_count": 11,
   "id": "8ab41bef",
   "metadata": {
    "execution": {
     "iopub.execute_input": "2025-03-11T15:13:28.271540Z",
     "iopub.status.busy": "2025-03-11T15:13:28.271164Z",
     "iopub.status.idle": "2025-03-11T15:13:28.280599Z",
     "shell.execute_reply": "2025-03-11T15:13:28.279127Z"
    },
    "papermill": {
     "duration": 0.019462,
     "end_time": "2025-03-11T15:13:28.282485",
     "exception": false,
     "start_time": "2025-03-11T15:13:28.263023",
     "status": "completed"
    },
    "tags": []
   },
   "outputs": [
    {
     "data": {
      "text/plain": [
       "0    11609.38\n",
       "1     9572.96\n",
       "2    11160.36\n",
       "3    14426.16\n",
       "4     5358.71\n",
       "Name: credit card debt, dtype: float64"
      ]
     },
     "execution_count": 11,
     "metadata": {},
     "output_type": "execute_result"
    }
   ],
   "source": [
    "df['credit card debt']=df['credit card debt'].round(2)\n",
    "df['credit card debt'].head()"
   ]
  },
  {
   "cell_type": "code",
   "execution_count": 12,
   "id": "62e63f16",
   "metadata": {
    "execution": {
     "iopub.execute_input": "2025-03-11T15:13:28.298236Z",
     "iopub.status.busy": "2025-03-11T15:13:28.297871Z",
     "iopub.status.idle": "2025-03-11T15:13:28.306273Z",
     "shell.execute_reply": "2025-03-11T15:13:28.304958Z"
    },
    "papermill": {
     "duration": 0.018825,
     "end_time": "2025-03-11T15:13:28.308277",
     "exception": false,
     "start_time": "2025-03-11T15:13:28.289452",
     "status": "completed"
    },
    "tags": []
   },
   "outputs": [
    {
     "data": {
      "text/plain": [
       "0    238961.25\n",
       "1    530973.91\n",
       "2    638467.18\n",
       "3    548599.05\n",
       "4    560304.07\n",
       "Name: net worth, dtype: float64"
      ]
     },
     "execution_count": 12,
     "metadata": {},
     "output_type": "execute_result"
    }
   ],
   "source": [
    "df['net worth']=df['net worth'].round(2)\n",
    "df['net worth'].head()"
   ]
  },
  {
   "cell_type": "markdown",
   "id": "54244176",
   "metadata": {
    "papermill": {
     "duration": 0.007134,
     "end_time": "2025-03-11T15:13:28.322557",
     "exception": false,
     "start_time": "2025-03-11T15:13:28.315423",
     "status": "completed"
    },
    "tags": []
   },
   "source": [
    "# Data Visualization"
   ]
  },
  {
   "cell_type": "code",
   "execution_count": 13,
   "id": "796ff332",
   "metadata": {
    "execution": {
     "iopub.execute_input": "2025-03-11T15:13:28.337866Z",
     "iopub.status.busy": "2025-03-11T15:13:28.337447Z",
     "iopub.status.idle": "2025-03-11T15:13:28.656828Z",
     "shell.execute_reply": "2025-03-11T15:13:28.655482Z"
    },
    "papermill": {
     "duration": 0.329055,
     "end_time": "2025-03-11T15:13:28.658600",
     "exception": false,
     "start_time": "2025-03-11T15:13:28.329545",
     "status": "completed"
    },
    "tags": []
   },
   "outputs": [
    {
     "data": {
      "image/png": "[encoded data removed]",
      "text/plain": [
       "<Figure size 1000x600 with 1 Axes>"
      ]
     },
     "metadata": {},
     "output_type": "display_data"
    }
   ],
   "source": [
    "plt.figure(figsize=(10,6))\n",
    "plt.scatter(data=df,x='age',y='annual Salary',c='gender')\n",
    "plt.xlabel('Age')\n",
    "plt.ylabel('Salary Distribution')\n",
    "plt.show()"
   ]
  },
  {
   "cell_type": "code",
   "execution_count": 14,
   "id": "24c757c3",
   "metadata": {
    "execution": {
     "iopub.execute_input": "2025-03-11T15:13:28.678769Z",
     "iopub.status.busy": "2025-03-11T15:13:28.678266Z",
     "iopub.status.idle": "2025-03-11T15:13:28.696206Z",
     "shell.execute_reply": "2025-03-11T15:13:28.694736Z"
    },
    "papermill": {
     "duration": 0.030561,
     "end_time": "2025-03-11T15:13:28.698559",
     "exception": false,
     "start_time": "2025-03-11T15:13:28.667998",
     "status": "completed"
    },
    "tags": []
   },
   "outputs": [
    {
     "data": {
      "text/html": [
       "<div>\n",
       "<style scoped>\n",
       "    .dataframe tbody tr th:only-of-type {\n",
       "        vertical-align: middle;\n",
       "    }\n",
       "\n",
       "    .dataframe tbody tr th {\n",
       "        vertical-align: top;\n",
       "    }\n",
       "\n",
       "    .dataframe thead th {\n",
       "        text-align: right;\n",
       "    }\n",
       "</style>\n",
       "<table border=\"1\" class=\"dataframe\">\n",
       "  <thead>\n",
       "    <tr style=\"text-align: right;\">\n",
       "      <th></th>\n",
       "      <th>gender</th>\n",
       "      <th>age</th>\n",
       "      <th>annual Salary</th>\n",
       "      <th>credit card debt</th>\n",
       "      <th>net worth</th>\n",
       "      <th>car purchase amount</th>\n",
       "    </tr>\n",
       "  </thead>\n",
       "  <tbody>\n",
       "    <tr>\n",
       "      <th>gender</th>\n",
       "      <td>1.000000</td>\n",
       "      <td>-0.066488</td>\n",
       "      <td>-0.036499</td>\n",
       "      <td>0.024193</td>\n",
       "      <td>-0.008395</td>\n",
       "      <td>-0.066408</td>\n",
       "    </tr>\n",
       "    <tr>\n",
       "      <th>age</th>\n",
       "      <td>-0.066488</td>\n",
       "      <td>1.000000</td>\n",
       "      <td>0.000361</td>\n",
       "      <td>0.031748</td>\n",
       "      <td>0.021794</td>\n",
       "      <td>0.633273</td>\n",
       "    </tr>\n",
       "    <tr>\n",
       "      <th>annual Salary</th>\n",
       "      <td>-0.036499</td>\n",
       "      <td>0.000361</td>\n",
       "      <td>1.000000</td>\n",
       "      <td>0.049599</td>\n",
       "      <td>0.014767</td>\n",
       "      <td>0.617862</td>\n",
       "    </tr>\n",
       "    <tr>\n",
       "      <th>credit card debt</th>\n",
       "      <td>0.024193</td>\n",
       "      <td>0.031748</td>\n",
       "      <td>0.049599</td>\n",
       "      <td>1.000000</td>\n",
       "      <td>-0.049378</td>\n",
       "      <td>0.028882</td>\n",
       "    </tr>\n",
       "    <tr>\n",
       "      <th>net worth</th>\n",
       "      <td>-0.008395</td>\n",
       "      <td>0.021794</td>\n",
       "      <td>0.014767</td>\n",
       "      <td>-0.049378</td>\n",
       "      <td>1.000000</td>\n",
       "      <td>0.488580</td>\n",
       "    </tr>\n",
       "    <tr>\n",
       "      <th>car purchase amount</th>\n",
       "      <td>-0.066408</td>\n",
       "      <td>0.633273</td>\n",
       "      <td>0.617862</td>\n",
       "      <td>0.028882</td>\n",
       "      <td>0.488580</td>\n",
       "      <td>1.000000</td>\n",
       "    </tr>\n",
       "  </tbody>\n",
       "</table>\n",
       "</div>"
      ],
      "text/plain": [
       "                       gender       age  annual Salary  credit card debt  \\\n",
       "gender               1.000000 -0.066488      -0.036499          0.024193   \n",
       "age                 -0.066488  1.000000       0.000361          0.031748   \n",
       "annual Salary       -0.036499  0.000361       1.000000          0.049599   \n",
       "credit card debt     0.024193  0.031748       0.049599          1.000000   \n",
       "net worth           -0.008395  0.021794       0.014767         -0.049378   \n",
       "car purchase amount -0.066408  0.633273       0.617862          0.028882   \n",
       "\n",
       "                     net worth  car purchase amount  \n",
       "gender               -0.008395            -0.066408  \n",
       "age                   0.021794             0.633273  \n",
       "annual Salary         0.014767             0.617862  \n",
       "credit card debt     -0.049378             0.028882  \n",
       "net worth             1.000000             0.488580  \n",
       "car purchase amount   0.488580             1.000000  "
      ]
     },
     "execution_count": 14,
     "metadata": {},
     "output_type": "execute_result"
    }
   ],
   "source": [
    "df.corr(numeric_only=True)"
   ]
  },
  {
   "cell_type": "markdown",
   "id": "a79f7936",
   "metadata": {
    "papermill": {
     "duration": 0.009881,
     "end_time": "2025-03-11T15:13:28.719191",
     "exception": false,
     "start_time": "2025-03-11T15:13:28.709310",
     "status": "completed"
    },
    "tags": []
   },
   "source": [
    "# Applying ANN Model"
   ]
  },
  {
   "cell_type": "code",
   "execution_count": 15,
   "id": "a5a5931c",
   "metadata": {
    "execution": {
     "iopub.execute_input": "2025-03-11T15:13:28.742508Z",
     "iopub.status.busy": "2025-03-11T15:13:28.742138Z",
     "iopub.status.idle": "2025-03-11T15:13:28.759339Z",
     "shell.execute_reply": "2025-03-11T15:13:28.757981Z"
    },
    "papermill": {
     "duration": 0.031238,
     "end_time": "2025-03-11T15:13:28.761196",
     "exception": false,
     "start_time": "2025-03-11T15:13:28.729958",
     "status": "completed"
    },
    "tags": []
   },
   "outputs": [
    {
     "data": {
      "text/html": [
       "<div>\n",
       "<style scoped>\n",
       "    .dataframe tbody tr th:only-of-type {\n",
       "        vertical-align: middle;\n",
       "    }\n",
       "\n",
       "    .dataframe tbody tr th {\n",
       "        vertical-align: top;\n",
       "    }\n",
       "\n",
       "    .dataframe thead th {\n",
       "        text-align: right;\n",
       "    }\n",
       "</style>\n",
       "<table border=\"1\" class=\"dataframe\">\n",
       "  <thead>\n",
       "    <tr style=\"text-align: right;\">\n",
       "      <th></th>\n",
       "      <th>gender</th>\n",
       "      <th>age</th>\n",
       "      <th>annual Salary</th>\n",
       "      <th>credit card debt</th>\n",
       "      <th>net worth</th>\n",
       "      <th>car purchase amount</th>\n",
       "    </tr>\n",
       "  </thead>\n",
       "  <tbody>\n",
       "    <tr>\n",
       "      <th>0</th>\n",
       "      <td>0</td>\n",
       "      <td>42</td>\n",
       "      <td>62812.09</td>\n",
       "      <td>11609.38</td>\n",
       "      <td>238961.25</td>\n",
       "      <td>35321.45877</td>\n",
       "    </tr>\n",
       "    <tr>\n",
       "      <th>1</th>\n",
       "      <td>0</td>\n",
       "      <td>41</td>\n",
       "      <td>66646.89</td>\n",
       "      <td>9572.96</td>\n",
       "      <td>530973.91</td>\n",
       "      <td>45115.52566</td>\n",
       "    </tr>\n",
       "    <tr>\n",
       "      <th>2</th>\n",
       "      <td>1</td>\n",
       "      <td>43</td>\n",
       "      <td>53798.55</td>\n",
       "      <td>11160.36</td>\n",
       "      <td>638467.18</td>\n",
       "      <td>42925.70921</td>\n",
       "    </tr>\n",
       "    <tr>\n",
       "      <th>3</th>\n",
       "      <td>1</td>\n",
       "      <td>58</td>\n",
       "      <td>79370.04</td>\n",
       "      <td>14426.16</td>\n",
       "      <td>548599.05</td>\n",
       "      <td>67422.36313</td>\n",
       "    </tr>\n",
       "    <tr>\n",
       "      <th>4</th>\n",
       "      <td>1</td>\n",
       "      <td>57</td>\n",
       "      <td>59729.15</td>\n",
       "      <td>5358.71</td>\n",
       "      <td>560304.07</td>\n",
       "      <td>55915.46248</td>\n",
       "    </tr>\n",
       "  </tbody>\n",
       "</table>\n",
       "</div>"
      ],
      "text/plain": [
       "   gender  age  annual Salary  credit card debt  net worth  \\\n",
       "0       0   42       62812.09          11609.38  238961.25   \n",
       "1       0   41       66646.89           9572.96  530973.91   \n",
       "2       1   43       53798.55          11160.36  638467.18   \n",
       "3       1   58       79370.04          14426.16  548599.05   \n",
       "4       1   57       59729.15           5358.71  560304.07   \n",
       "\n",
       "   car purchase amount  \n",
       "0          35321.45877  \n",
       "1          45115.52566  \n",
       "2          42925.70921  \n",
       "3          67422.36313  \n",
       "4          55915.46248  "
      ]
     },
     "execution_count": 15,
     "metadata": {},
     "output_type": "execute_result"
    }
   ],
   "source": [
    "df.drop(columns=['customer name',\t'customer e-mail'\t,'country'],inplace=True)\n",
    "df.head()"
   ]
  },
  {
   "cell_type": "code",
   "execution_count": 16,
   "id": "6a6ee7de",
   "metadata": {
    "execution": {
     "iopub.execute_input": "2025-03-11T15:13:28.782433Z",
     "iopub.status.busy": "2025-03-11T15:13:28.782092Z",
     "iopub.status.idle": "2025-03-11T15:13:28.788306Z",
     "shell.execute_reply": "2025-03-11T15:13:28.786895Z"
    },
    "papermill": {
     "duration": 0.019639,
     "end_time": "2025-03-11T15:13:28.790670",
     "exception": false,
     "start_time": "2025-03-11T15:13:28.771031",
     "status": "completed"
    },
    "tags": []
   },
   "outputs": [],
   "source": [
    "X = df.drop('car purchase amount',axis=1)\n",
    "y = df['car purchase amount']"
   ]
  },
  {
   "cell_type": "code",
   "execution_count": 17,
   "id": "a87b08ed",
   "metadata": {
    "execution": {
     "iopub.execute_input": "2025-03-11T15:13:28.814640Z",
     "iopub.status.busy": "2025-03-11T15:13:28.814181Z",
     "iopub.status.idle": "2025-03-11T15:13:29.226257Z",
     "shell.execute_reply": "2025-03-11T15:13:29.224860Z"
    },
    "papermill": {
     "duration": 0.426817,
     "end_time": "2025-03-11T15:13:29.228786",
     "exception": false,
     "start_time": "2025-03-11T15:13:28.801969",
     "status": "completed"
    },
    "tags": []
   },
   "outputs": [],
   "source": [
    "from sklearn.preprocessing import StandardScaler\n",
    "from sklearn.model_selection import train_test_split\n",
    "import tensorflow as tf\n",
    "\n",
    "X_train,X_test,y_train,y_test = train_test_split(X,y,test_size=0.2,random_state=42)"
   ]
  },
  {
   "cell_type": "code",
   "execution_count": 18,
   "id": "b41c332f",
   "metadata": {
    "execution": {
     "iopub.execute_input": "2025-03-11T15:13:29.251466Z",
     "iopub.status.busy": "2025-03-11T15:13:29.251014Z",
     "iopub.status.idle": "2025-03-11T15:13:29.270262Z",
     "shell.execute_reply": "2025-03-11T15:13:29.268949Z"
    },
    "papermill": {
     "duration": 0.032979,
     "end_time": "2025-03-11T15:13:29.272393",
     "exception": false,
     "start_time": "2025-03-11T15:13:29.239414",
     "status": "completed"
    },
    "tags": []
   },
   "outputs": [
    {
     "data": {
      "text/html": [
       "<style>#sk-container-id-1 {color: black;background-color: white;}#sk-container-id-1 pre{padding: 0;}#sk-container-id-1 div.sk-toggleable {background-color: white;}#sk-container-id-1 label.sk-toggleable__label {cursor: pointer;display: block;width: 100%;margin-bottom: 0;padding: 0.3em;box-sizing: border-box;text-align: center;}#sk-container-id-1 label.sk-toggleable__label-arrow:before {content: \"▸\";float: left;margin-right: 0.25em;color: #696969;}#sk-container-id-1 label.sk-toggleable__label-arrow:hover:before {color: black;}#sk-container-id-1 div.sk-estimator:hover label.sk-toggleable__label-arrow:before {color: black;}#sk-container-id-1 div.sk-toggleable__content {max-height: 0;max-width: 0;overflow: hidden;text-align: left;background-color: #f0f8ff;}#sk-container-id-1 div.sk-toggleable__content pre {margin: 0.2em;color: black;border-radius: 0.25em;background-color: #f0f8ff;}#sk-container-id-1 input.sk-toggleable__control:checked~div.sk-toggleable__content {max-height: 200px;max-width: 100%;overflow: auto;}#sk-container-id-1 input.sk-toggleable__control:checked~label.sk-toggleable__label-arrow:before {content: \"▾\";}#sk-container-id-1 div.sk-estimator input.sk-toggleable__control:checked~label.sk-toggleable__label {background-color: #d4ebff;}#sk-container-id-1 div.sk-label input.sk-toggleable__control:checked~label.sk-toggleable__label {background-color: #d4ebff;}#sk-container-id-1 input.sk-hidden--visually {border: 0;clip: rect(1px 1px 1px 1px);clip: rect(1px, 1px, 1px, 1px);height: 1px;margin: -1px;overflow: hidden;padding: 0;position: absolute;width: 1px;}#sk-container-id-1 div.sk-estimator {font-family: monospace;background-color: #f0f8ff;border: 1px dotted black;border-radius: 0.25em;box-sizing: border-box;margin-bottom: 0.5em;}#sk-container-id-1 div.sk-estimator:hover {background-color: #d4ebff;}#sk-container-id-1 div.sk-parallel-item::after {content: \"\";width: 100%;border-bottom: 1px solid gray;flex-grow: 1;}#sk-container-id-1 div.sk-label:hover label.sk-toggleable__label {background-color: #d4ebff;}#sk-container-id-1 div.sk-serial::before {content: \"\";position: absolute;border-left: 1px solid gray;box-sizing: border-box;top: 0;bottom: 0;left: 50%;z-index: 0;}#sk-container-id-1 div.sk-serial {display: flex;flex-direction: column;align-items: center;background-color: white;padding-right: 0.2em;padding-left: 0.2em;position: relative;}#sk-container-id-1 div.sk-item {position: relative;z-index: 1;}#sk-container-id-1 div.sk-parallel {display: flex;align-items: stretch;justify-content: center;background-color: white;position: relative;}#sk-container-id-1 div.sk-item::before, #sk-container-id-1 div.sk-parallel-item::before {content: \"\";position: absolute;border-left: 1px solid gray;box-sizing: border-box;top: 0;bottom: 0;left: 50%;z-index: -1;}#sk-container-id-1 div.sk-parallel-item {display: flex;flex-direction: column;z-index: 1;position: relative;background-color: white;}#sk-container-id-1 div.sk-parallel-item:first-child::after {align-self: flex-end;width: 50%;}#sk-container-id-1 div.sk-parallel-item:last-child::after {align-self: flex-start;width: 50%;}#sk-container-id-1 div.sk-parallel-item:only-child::after {width: 0;}#sk-container-id-1 div.sk-dashed-wrapped {border: 1px dashed gray;margin: 0 0.4em 0.5em 0.4em;box-sizing: border-box;padding-bottom: 0.4em;background-color: white;}#sk-container-id-1 div.sk-label label {font-family: monospace;font-weight: bold;display: inline-block;line-height: 1.2em;}#sk-container-id-1 div.sk-label-container {text-align: center;}#sk-container-id-1 div.sk-container {/* jupyter's `normalize.less` sets `[hidden] { display: none; }` but bootstrap.min.css set `[hidden] { display: none !important; }` so we also need the `!important` here to be able to override the default hidden behavior on the sphinx rendered scikit-learn.org. See: https://github.com/scikit-learn/scikit-learn/issues/21755 */display: inline-block !important;position: relative;}#sk-container-id-1 div.sk-text-repr-fallback {display: none;}</style><div id=\"sk-container-id-1\" class=\"sk-top-container\"><div class=\"sk-text-repr-fallback\"><pre>StandardScaler()</pre><b>In a Jupyter environment, please rerun this cell to show the HTML representation or trust the notebook. <br />On GitHub, the HTML representation is unable to render, please try loading this page with nbviewer.org.</b></div><div class=\"sk-container\" hidden><div class=\"sk-item\"><div class=\"sk-estimator sk-toggleable\"><input class=\"sk-toggleable__control sk-hidden--visually\" id=\"sk-estimator-id-1\" type=\"checkbox\" checked><label for=\"sk-estimator-id-1\" class=\"sk-toggleable__label sk-toggleable__label-arrow\">StandardScaler</label><div class=\"sk-toggleable__content\"><pre>StandardScaler()</pre></div></div></div></div></div>"
      ],
      "text/plain": [
       "StandardScaler()"
      ]
     },
     "execution_count": 18,
     "metadata": {},
     "output_type": "execute_result"
    }
   ],
   "source": [
    "SS=StandardScaler()\n",
    "X_train=SS.fit_transform(X_train)\n",
    "SS"
   ]
  },
  {
   "cell_type": "code",
   "execution_count": 19,
   "id": "2ab686e9",
   "metadata": {
    "execution": {
     "iopub.execute_input": "2025-03-11T15:13:29.296227Z",
     "iopub.status.busy": "2025-03-11T15:13:29.295826Z",
     "iopub.status.idle": "2025-03-11T15:13:29.305166Z",
     "shell.execute_reply": "2025-03-11T15:13:29.303795Z"
    },
    "papermill": {
     "duration": 0.023191,
     "end_time": "2025-03-11T15:13:29.307309",
     "exception": false,
     "start_time": "2025-03-11T15:13:29.284118",
     "status": "completed"
    },
    "tags": []
   },
   "outputs": [],
   "source": [
    "X_test=SS.fit_transform(X_test)"
   ]
  },
  {
   "cell_type": "code",
   "execution_count": 20,
   "id": "2ed90325",
   "metadata": {
    "execution": {
     "iopub.execute_input": "2025-03-11T15:13:29.329016Z",
     "iopub.status.busy": "2025-03-11T15:13:29.328537Z",
     "iopub.status.idle": "2025-03-11T15:13:29.397784Z",
     "shell.execute_reply": "2025-03-11T15:13:29.396378Z"
    },
    "papermill": {
     "duration": 0.082573,
     "end_time": "2025-03-11T15:13:29.400109",
     "exception": false,
     "start_time": "2025-03-11T15:13:29.317536",
     "status": "completed"
    },
    "tags": []
   },
   "outputs": [],
   "source": [
    "model = Sequential([\n",
    "    Dense(512, activation='relu'),\n",
    "    Dense(64, activation='relu'),\n",
    "    Dense(16, activation='relu'),\n",
    "    Dense(1)\n",
    "])\n",
    "\n",
    "model.compile(loss=tf.keras.losses.mae,\n",
    "             optimizer = tf.keras.optimizers.Adam(),\n",
    "             metrics = ['mse'])"
   ]
  },
  {
   "cell_type": "code",
   "execution_count": 21,
   "id": "12ba8261",
   "metadata": {
    "execution": {
     "iopub.execute_input": "2025-03-11T15:13:29.422554Z",
     "iopub.status.busy": "2025-03-11T15:13:29.422114Z",
     "iopub.status.idle": "2025-03-11T15:13:58.559103Z",
     "shell.execute_reply": "2025-03-11T15:13:58.557729Z"
    },
    "papermill": {
     "duration": 29.150879,
     "end_time": "2025-03-11T15:13:58.561242",
     "exception": false,
     "start_time": "2025-03-11T15:13:29.410363",
     "status": "completed"
    },
    "tags": []
   },
   "outputs": [
    {
     "name": "stdout",
     "output_type": "stream",
     "text": [
      "Epoch 1/300\n",
      "\u001b[1m10/10\u001b[0m \u001b[32m━━━━━━━━━━━━━━━━━━━━\u001b[0m\u001b[37m\u001b[0m \u001b[1m2s\u001b[0m 29ms/step - loss: 44073.4219 - mse: 2056681984.0000 - val_loss: 42925.0234 - val_mse: 1938647808.0000\n",
      "Epoch 2/300\n",
      "\u001b[1m10/10\u001b[0m \u001b[32m━━━━━━━━━━━━━━━━━━━━\u001b[0m\u001b[37m\u001b[0m \u001b[1m0s\u001b[0m 6ms/step - loss: 43921.9492 - mse: 2052711936.0000 - val_loss: 42923.1641 - val_mse: 1938489344.0000\n",
      "Epoch 3/300\n",
      "\u001b[1m10/10\u001b[0m \u001b[32m━━━━━━━━━━━━━━━━━━━━\u001b[0m\u001b[37m\u001b[0m \u001b[1m0s\u001b[0m 8ms/step - loss: 43930.3594 - mse: 2057478144.0000 - val_loss: 42919.6289 - val_mse: 1938188032.0000\n",
      "Epoch 4/300\n",
      "\u001b[1m10/10\u001b[0m \u001b[32m━━━━━━━━━━━━━━━━━━━━\u001b[0m\u001b[37m\u001b[0m \u001b[1m0s\u001b[0m 7ms/step - loss: 44541.7188 - mse: 2109642112.0000 - val_loss: 42913.0195 - val_mse: 1937625088.0000\n",
      "Epoch 5/300\n",
      "\u001b[1m10/10\u001b[0m \u001b[32m━━━━━━━━━━━━━━━━━━━━\u001b[0m\u001b[37m\u001b[0m \u001b[1m0s\u001b[0m 6ms/step - loss: 44479.5117 - mse: 2108373760.0000 - val_loss: 42901.2812 - val_mse: 1936624384.0000\n",
      "Epoch 6/300\n",
      "\u001b[1m10/10\u001b[0m \u001b[32m━━━━━━━━━━━━━━━━━━━━\u001b[0m\u001b[37m\u001b[0m \u001b[1m0s\u001b[0m 6ms/step - loss: 44411.8984 - mse: 2098649344.0000 - val_loss: 42881.6562 - val_mse: 1934948096.0000\n",
      "Epoch 7/300\n",
      "\u001b[1m10/10\u001b[0m \u001b[32m━━━━━━━━━━━━━━━━━━━━\u001b[0m\u001b[37m\u001b[0m \u001b[1m0s\u001b[0m 7ms/step - loss: 43402.5664 - mse: 2004786048.0000 - val_loss: 42850.4414 - val_mse: 1932283520.0000\n",
      "Epoch 8/300\n",
      "\u001b[1m10/10\u001b[0m \u001b[32m━━━━━━━━━━━━━━━━━━━━\u001b[0m\u001b[37m\u001b[0m \u001b[1m0s\u001b[0m 6ms/step - loss: 44029.9492 - mse: 2060318592.0000 - val_loss: 42802.9180 - val_mse: 1928220928.0000\n",
      "Epoch 9/300\n",
      "\u001b[1m10/10\u001b[0m \u001b[32m━━━━━━━━━━━━━━━━━━━━\u001b[0m\u001b[37m\u001b[0m \u001b[1m0s\u001b[0m 6ms/step - loss: 43209.7656 - mse: 1989980160.0000 - val_loss: 42733.2305 - val_mse: 1922280704.0000\n",
      "Epoch 10/300\n",
      "\u001b[1m10/10\u001b[0m \u001b[32m━━━━━━━━━━━━━━━━━━━━\u001b[0m\u001b[37m\u001b[0m \u001b[1m0s\u001b[0m 6ms/step - loss: 44589.0352 - mse: 2106753152.0000 - val_loss: 42634.3359 - val_mse: 1913829376.0000\n",
      "Epoch 11/300\n",
      "\u001b[1m10/10\u001b[0m \u001b[32m━━━━━━━━━━━━━━━━━━━━\u001b[0m\u001b[37m\u001b[0m \u001b[1m0s\u001b[0m 6ms/step - loss: 43189.7031 - mse: 1980185600.0000 - val_loss: 42497.5547 - val_mse: 1902206336.0000\n",
      "Epoch 12/300\n",
      "\u001b[1m10/10\u001b[0m \u001b[32m━━━━━━━━━━━━━━━━━━━━\u001b[0m\u001b[37m\u001b[0m \u001b[1m0s\u001b[0m 6ms/step - loss: 43311.7852 - mse: 2009196032.0000 - val_loss: 42314.7148 - val_mse: 1886702592.0000\n",
      "Epoch 13/300\n",
      "\u001b[1m10/10\u001b[0m \u001b[32m━━━━━━━━━━━━━━━━━━━━\u001b[0m\u001b[37m\u001b[0m \u001b[1m0s\u001b[0m 6ms/step - loss: 43136.1016 - mse: 1990749056.0000 - val_loss: 42074.0234 - val_mse: 1866389888.0000\n",
      "Epoch 14/300\n",
      "\u001b[1m10/10\u001b[0m \u001b[32m━━━━━━━━━━━━━━━━━━━━\u001b[0m\u001b[37m\u001b[0m \u001b[1m0s\u001b[0m 6ms/step - loss: 43356.5156 - mse: 1995002752.0000 - val_loss: 41763.3398 - val_mse: 1840280192.0000\n",
      "Epoch 15/300\n",
      "\u001b[1m10/10\u001b[0m \u001b[32m━━━━━━━━━━━━━━━━━━━━\u001b[0m\u001b[37m\u001b[0m \u001b[1m0s\u001b[0m 7ms/step - loss: 43514.5039 - mse: 2015035008.0000 - val_loss: 41368.6680 - val_mse: 1807439488.0000\n",
      "Epoch 16/300\n",
      "\u001b[1m10/10\u001b[0m \u001b[32m━━━━━━━━━━━━━━━━━━━━\u001b[0m\u001b[37m\u001b[0m \u001b[1m0s\u001b[0m 6ms/step - loss: 43035.8242 - mse: 1990380288.0000 - val_loss: 40875.1328 - val_mse: 1766795648.0000\n",
      "Epoch 17/300\n",
      "\u001b[1m10/10\u001b[0m \u001b[32m━━━━━━━━━━━━━━━━━━━━\u001b[0m\u001b[37m\u001b[0m \u001b[1m0s\u001b[0m 6ms/step - loss: 41894.8398 - mse: 1873201280.0000 - val_loss: 40264.9570 - val_mse: 1717296768.0000\n",
      "Epoch 18/300\n",
      "\u001b[1m10/10\u001b[0m \u001b[32m━━━━━━━━━━━━━━━━━━━━\u001b[0m\u001b[37m\u001b[0m \u001b[1m0s\u001b[0m 6ms/step - loss: 41023.5859 - mse: 1800010368.0000 - val_loss: 39521.7891 - val_mse: 1658032896.0000\n",
      "Epoch 19/300\n",
      "\u001b[1m10/10\u001b[0m \u001b[32m━━━━━━━━━━━━━━━━━━━━\u001b[0m\u001b[37m\u001b[0m \u001b[1m0s\u001b[0m 7ms/step - loss: 40066.4531 - mse: 1731673344.0000 - val_loss: 38626.0859 - val_mse: 1588072704.0000\n",
      "Epoch 20/300\n",
      "\u001b[1m10/10\u001b[0m \u001b[32m━━━━━━━━━━━━━━━━━━━━\u001b[0m\u001b[37m\u001b[0m \u001b[1m0s\u001b[0m 6ms/step - loss: 39925.1914 - mse: 1714521472.0000 - val_loss: 37560.2266 - val_mse: 1506812800.0000\n",
      "Epoch 21/300\n",
      "\u001b[1m10/10\u001b[0m \u001b[32m━━━━━━━━━━━━━━━━━━━━\u001b[0m\u001b[37m\u001b[0m \u001b[1m0s\u001b[0m 7ms/step - loss: 38865.5195 - mse: 1638211584.0000 - val_loss: 36295.9609 - val_mse: 1413360768.0000\n",
      "Epoch 22/300\n",
      "\u001b[1m10/10\u001b[0m \u001b[32m━━━━━━━━━━━━━━━━━━━━\u001b[0m\u001b[37m\u001b[0m \u001b[1m0s\u001b[0m 7ms/step - loss: 36405.4844 - mse: 1440180864.0000 - val_loss: 34821.7891 - val_mse: 1308690816.0000\n",
      "Epoch 23/300\n",
      "\u001b[1m10/10\u001b[0m \u001b[32m━━━━━━━━━━━━━━━━━━━━\u001b[0m\u001b[37m\u001b[0m \u001b[1m0s\u001b[0m 6ms/step - loss: 35024.1211 - mse: 1340981504.0000 - val_loss: 33126.5742 - val_mse: 1192742272.0000\n",
      "Epoch 24/300\n",
      "\u001b[1m10/10\u001b[0m \u001b[32m━━━━━━━━━━━━━━━━━━━━\u001b[0m\u001b[37m\u001b[0m \u001b[1m0s\u001b[0m 6ms/step - loss: 33781.0508 - mse: 1249537408.0000 - val_loss: 31225.7617 - val_mse: 1066086016.0000\n",
      "Epoch 25/300\n",
      "\u001b[1m10/10\u001b[0m \u001b[32m━━━━━━━━━━━━━━━━━━━━\u001b[0m\u001b[37m\u001b[0m \u001b[1m0s\u001b[0m 6ms/step - loss: 31725.4922 - mse: 1118969984.0000 - val_loss: 29053.2129 - val_mse: 931044864.0000\n",
      "Epoch 26/300\n",
      "\u001b[1m10/10\u001b[0m \u001b[32m━━━━━━━━━━━━━━━━━━━━\u001b[0m\u001b[37m\u001b[0m \u001b[1m0s\u001b[0m 6ms/step - loss: 29274.7695 - mse: 975829696.0000 - val_loss: 26582.6055 - val_mse: 789950400.0000\n",
      "Epoch 27/300\n",
      "\u001b[1m10/10\u001b[0m \u001b[32m━━━━━━━━━━━━━━━━━━━━\u001b[0m\u001b[37m\u001b[0m \u001b[1m0s\u001b[0m 7ms/step - loss: 26993.9824 - mse: 823838400.0000 - val_loss: 23797.9648 - val_mse: 646741952.0000\n",
      "Epoch 28/300\n",
      "\u001b[1m10/10\u001b[0m \u001b[32m━━━━━━━━━━━━━━━━━━━━\u001b[0m\u001b[37m\u001b[0m \u001b[1m0s\u001b[0m 6ms/step - loss: 23410.1465 - mse: 653185344.0000 - val_loss: 20765.9473 - val_mse: 506787904.0000\n",
      "Epoch 29/300\n",
      "\u001b[1m10/10\u001b[0m \u001b[32m━━━━━━━━━━━━━━━━━━━━\u001b[0m\u001b[37m\u001b[0m \u001b[1m0s\u001b[0m 6ms/step - loss: 20264.3184 - mse: 505290080.0000 - val_loss: 17592.0098 - val_mse: 375136576.0000\n",
      "Epoch 30/300\n",
      "\u001b[1m10/10\u001b[0m \u001b[32m━━━━━━━━━━━━━━━━━━━━\u001b[0m\u001b[37m\u001b[0m \u001b[1m0s\u001b[0m 7ms/step - loss: 16066.5000 - mse: 328711584.0000 - val_loss: 14484.3750 - val_mse: 260448224.0000\n",
      "Epoch 31/300\n",
      "\u001b[1m10/10\u001b[0m \u001b[32m━━━━━━━━━━━━━━━━━━━━\u001b[0m\u001b[37m\u001b[0m \u001b[1m0s\u001b[0m 6ms/step - loss: 14172.1025 - mse: 258189280.0000 - val_loss: 11471.8486 - val_mse: 167757712.0000\n",
      "Epoch 32/300\n",
      "\u001b[1m10/10\u001b[0m \u001b[32m━━━━━━━━━━━━━━━━━━━━\u001b[0m\u001b[37m\u001b[0m \u001b[1m0s\u001b[0m 6ms/step - loss: 10715.5020 - mse: 155747984.0000 - val_loss: 8717.6016 - val_mse: 102639136.0000\n",
      "Epoch 33/300\n",
      "\u001b[1m10/10\u001b[0m \u001b[32m━━━━━━━━━━━━━━━━━━━━\u001b[0m\u001b[37m\u001b[0m \u001b[1m0s\u001b[0m 6ms/step - loss: 8380.7324 - mse: 102747024.0000 - val_loss: 6478.4375 - val_mse: 64293208.0000\n",
      "Epoch 34/300\n",
      "\u001b[1m10/10\u001b[0m \u001b[32m━━━━━━━━━━━━━━━━━━━━\u001b[0m\u001b[37m\u001b[0m \u001b[1m0s\u001b[0m 6ms/step - loss: 5735.9922 - mse: 56910332.0000 - val_loss: 5342.4409 - val_mse: 46328852.0000\n",
      "Epoch 35/300\n",
      "\u001b[1m10/10\u001b[0m \u001b[32m━━━━━━━━━━━━━━━━━━━━\u001b[0m\u001b[37m\u001b[0m \u001b[1m0s\u001b[0m 6ms/step - loss: 5265.2578 - mse: 53930596.0000 - val_loss: 4895.3560 - val_mse: 38812920.0000\n",
      "Epoch 36/300\n",
      "\u001b[1m10/10\u001b[0m \u001b[32m━━━━━━━━━━━━━━━━━━━━\u001b[0m\u001b[37m\u001b[0m \u001b[1m0s\u001b[0m 6ms/step - loss: 4667.4858 - mse: 40950424.0000 - val_loss: 4710.5913 - val_mse: 34371588.0000\n",
      "Epoch 37/300\n",
      "\u001b[1m10/10\u001b[0m \u001b[32m━━━━━━━━━━━━━━━━━━━━\u001b[0m\u001b[37m\u001b[0m \u001b[1m0s\u001b[0m 6ms/step - loss: 4321.0723 - mse: 33730592.0000 - val_loss: 4587.5513 - val_mse: 32110704.0000\n",
      "Epoch 38/300\n",
      "\u001b[1m10/10\u001b[0m \u001b[32m━━━━━━━━━━━━━━━━━━━━\u001b[0m\u001b[37m\u001b[0m \u001b[1m0s\u001b[0m 7ms/step - loss: 4260.6938 - mse: 29842474.0000 - val_loss: 4502.3491 - val_mse: 30470650.0000\n",
      "Epoch 39/300\n",
      "\u001b[1m10/10\u001b[0m \u001b[32m━━━━━━━━━━━━━━━━━━━━\u001b[0m\u001b[37m\u001b[0m \u001b[1m0s\u001b[0m 7ms/step - loss: 4230.2886 - mse: 31907004.0000 - val_loss: 4427.7334 - val_mse: 29249876.0000\n",
      "Epoch 40/300\n",
      "\u001b[1m10/10\u001b[0m \u001b[32m━━━━━━━━━━━━━━━━━━━━\u001b[0m\u001b[37m\u001b[0m \u001b[1m0s\u001b[0m 7ms/step - loss: 4257.9805 - mse: 32122370.0000 - val_loss: 4314.9663 - val_mse: 27869418.0000\n",
      "Epoch 41/300\n",
      "\u001b[1m10/10\u001b[0m \u001b[32m━━━━━━━━━━━━━━━━━━━━\u001b[0m\u001b[37m\u001b[0m \u001b[1m0s\u001b[0m 6ms/step - loss: 4086.2908 - mse: 29137322.0000 - val_loss: 4218.1572 - val_mse: 26766276.0000\n",
      "Epoch 42/300\n",
      "\u001b[1m10/10\u001b[0m \u001b[32m━━━━━━━━━━━━━━━━━━━━\u001b[0m\u001b[37m\u001b[0m \u001b[1m0s\u001b[0m 6ms/step - loss: 4025.5334 - mse: 29322314.0000 - val_loss: 4128.5498 - val_mse: 25764704.0000\n",
      "Epoch 43/300\n",
      "\u001b[1m10/10\u001b[0m \u001b[32m━━━━━━━━━━━━━━━━━━━━\u001b[0m\u001b[37m\u001b[0m \u001b[1m0s\u001b[0m 7ms/step - loss: 4224.6963 - mse: 36020640.0000 - val_loss: 4039.1499 - val_mse: 24647116.0000\n",
      "Epoch 44/300\n",
      "\u001b[1m10/10\u001b[0m \u001b[32m━━━━━━━━━━━━━━━━━━━━\u001b[0m\u001b[37m\u001b[0m \u001b[1m0s\u001b[0m 6ms/step - loss: 3655.8337 - mse: 24541450.0000 - val_loss: 3959.0312 - val_mse: 23762060.0000\n",
      "Epoch 45/300\n",
      "\u001b[1m10/10\u001b[0m \u001b[32m━━━━━━━━━━━━━━━━━━━━\u001b[0m\u001b[37m\u001b[0m \u001b[1m0s\u001b[0m 6ms/step - loss: 3504.5127 - mse: 23759996.0000 - val_loss: 3855.5938 - val_mse: 22643252.0000\n",
      "Epoch 46/300\n",
      "\u001b[1m10/10\u001b[0m \u001b[32m━━━━━━━━━━━━━━━━━━━━\u001b[0m\u001b[37m\u001b[0m \u001b[1m0s\u001b[0m 7ms/step - loss: 3525.8909 - mse: 22405228.0000 - val_loss: 3756.2859 - val_mse: 21732344.0000\n",
      "Epoch 47/300\n",
      "\u001b[1m10/10\u001b[0m \u001b[32m━━━━━━━━━━━━━━━━━━━━\u001b[0m\u001b[37m\u001b[0m \u001b[1m0s\u001b[0m 7ms/step - loss: 3580.2083 - mse: 27374244.0000 - val_loss: 3681.5356 - val_mse: 20977354.0000\n",
      "Epoch 48/300\n",
      "\u001b[1m10/10\u001b[0m \u001b[32m━━━━━━━━━━━━━━━━━━━━\u001b[0m\u001b[37m\u001b[0m \u001b[1m0s\u001b[0m 6ms/step - loss: 3341.0510 - mse: 21104268.0000 - val_loss: 3603.5032 - val_mse: 20280070.0000\n",
      "Epoch 49/300\n",
      "\u001b[1m10/10\u001b[0m \u001b[32m━━━━━━━━━━━━━━━━━━━━\u001b[0m\u001b[37m\u001b[0m \u001b[1m0s\u001b[0m 6ms/step - loss: 3345.9175 - mse: 21866866.0000 - val_loss: 3524.7754 - val_mse: 19507534.0000\n",
      "Epoch 50/300\n",
      "\u001b[1m10/10\u001b[0m \u001b[32m━━━━━━━━━━━━━━━━━━━━\u001b[0m\u001b[37m\u001b[0m \u001b[1m0s\u001b[0m 6ms/step - loss: 3503.6057 - mse: 24827782.0000 - val_loss: 3455.9790 - val_mse: 18850996.0000\n",
      "Epoch 51/300\n",
      "\u001b[1m10/10\u001b[0m \u001b[32m━━━━━━━━━━━━━━━━━━━━\u001b[0m\u001b[37m\u001b[0m \u001b[1m0s\u001b[0m 6ms/step - loss: 3452.2793 - mse: 22053630.0000 - val_loss: 3379.1392 - val_mse: 18043868.0000\n",
      "Epoch 52/300\n",
      "\u001b[1m10/10\u001b[0m \u001b[32m━━━━━━━━━━━━━━━━━━━━\u001b[0m\u001b[37m\u001b[0m \u001b[1m0s\u001b[0m 6ms/step - loss: 3119.7405 - mse: 18684832.0000 - val_loss: 3306.9636 - val_mse: 17481396.0000\n",
      "Epoch 53/300\n",
      "\u001b[1m10/10\u001b[0m \u001b[32m━━━━━━━━━━━━━━━━━━━━\u001b[0m\u001b[37m\u001b[0m \u001b[1m0s\u001b[0m 6ms/step - loss: 3067.0359 - mse: 17592752.0000 - val_loss: 3251.8547 - val_mse: 16837708.0000\n",
      "Epoch 54/300\n",
      "\u001b[1m10/10\u001b[0m \u001b[32m━━━━━━━━━━━━━━━━━━━━\u001b[0m\u001b[37m\u001b[0m \u001b[1m0s\u001b[0m 6ms/step - loss: 3067.3201 - mse: 19170696.0000 - val_loss: 3183.4644 - val_mse: 16087542.0000\n",
      "Epoch 55/300\n",
      "\u001b[1m10/10\u001b[0m \u001b[32m━━━━━━━━━━━━━━━━━━━━\u001b[0m\u001b[37m\u001b[0m \u001b[1m0s\u001b[0m 7ms/step - loss: 2782.7839 - mse: 14559237.0000 - val_loss: 3114.7356 - val_mse: 15702048.0000\n",
      "Epoch 56/300\n",
      "\u001b[1m10/10\u001b[0m \u001b[32m━━━━━━━━━━━━━━━━━━━━\u001b[0m\u001b[37m\u001b[0m \u001b[1m0s\u001b[0m 6ms/step - loss: 2807.1711 - mse: 15209716.0000 - val_loss: 3065.4316 - val_mse: 14988870.0000\n",
      "Epoch 57/300\n",
      "\u001b[1m10/10\u001b[0m \u001b[32m━━━━━━━━━━━━━━━━━━━━\u001b[0m\u001b[37m\u001b[0m \u001b[1m0s\u001b[0m 6ms/step - loss: 2642.1907 - mse: 12911293.0000 - val_loss: 3002.3633 - val_mse: 14470739.0000\n",
      "Epoch 58/300\n",
      "\u001b[1m10/10\u001b[0m \u001b[32m━━━━━━━━━━━━━━━━━━━━\u001b[0m\u001b[37m\u001b[0m \u001b[1m0s\u001b[0m 6ms/step - loss: 2825.9641 - mse: 16069909.0000 - val_loss: 2950.3281 - val_mse: 14039398.0000\n",
      "Epoch 59/300\n",
      "\u001b[1m10/10\u001b[0m \u001b[32m━━━━━━━━━━━━━━━━━━━━\u001b[0m\u001b[37m\u001b[0m \u001b[1m0s\u001b[0m 7ms/step - loss: 2718.2610 - mse: 13867904.0000 - val_loss: 2890.0786 - val_mse: 13482458.0000\n",
      "Epoch 60/300\n",
      "\u001b[1m10/10\u001b[0m \u001b[32m━━━━━━━━━━━━━━━━━━━━\u001b[0m\u001b[37m\u001b[0m \u001b[1m0s\u001b[0m 6ms/step - loss: 2522.7468 - mse: 12005190.0000 - val_loss: 2829.0815 - val_mse: 12920667.0000\n",
      "Epoch 61/300\n",
      "\u001b[1m10/10\u001b[0m \u001b[32m━━━━━━━━━━━━━━━━━━━━\u001b[0m\u001b[37m\u001b[0m \u001b[1m0s\u001b[0m 7ms/step - loss: 2463.3521 - mse: 12061369.0000 - val_loss: 2766.2629 - val_mse: 12326673.0000\n",
      "Epoch 62/300\n",
      "\u001b[1m10/10\u001b[0m \u001b[32m━━━━━━━━━━━━━━━━━━━━\u001b[0m\u001b[37m\u001b[0m \u001b[1m0s\u001b[0m 6ms/step - loss: 2544.8118 - mse: 10945456.0000 - val_loss: 2712.5359 - val_mse: 12005851.0000\n",
      "Epoch 63/300\n",
      "\u001b[1m10/10\u001b[0m \u001b[32m━━━━━━━━━━━━━━━━━━━━\u001b[0m\u001b[37m\u001b[0m \u001b[1m0s\u001b[0m 6ms/step - loss: 2373.5667 - mse: 11386674.0000 - val_loss: 2667.1401 - val_mse: 11642787.0000\n",
      "Epoch 64/300\n",
      "\u001b[1m10/10\u001b[0m \u001b[32m━━━━━━━━━━━━━━━━━━━━\u001b[0m\u001b[37m\u001b[0m \u001b[1m0s\u001b[0m 6ms/step - loss: 2283.8784 - mse: 9428106.0000 - val_loss: 2618.6895 - val_mse: 11308866.0000\n",
      "Epoch 65/300\n",
      "\u001b[1m10/10\u001b[0m \u001b[32m━━━━━━━━━━━━━━━━━━━━\u001b[0m\u001b[37m\u001b[0m \u001b[1m0s\u001b[0m 6ms/step - loss: 2428.4995 - mse: 11421638.0000 - val_loss: 2581.7461 - val_mse: 10915103.0000\n",
      "Epoch 66/300\n",
      "\u001b[1m10/10\u001b[0m \u001b[32m━━━━━━━━━━━━━━━━━━━━\u001b[0m\u001b[37m\u001b[0m \u001b[1m0s\u001b[0m 6ms/step - loss: 2505.6785 - mse: 13009676.0000 - val_loss: 2543.2432 - val_mse: 10657463.0000\n",
      "Epoch 67/300\n",
      "\u001b[1m10/10\u001b[0m \u001b[32m━━━━━━━━━━━━━━━━━━━━\u001b[0m\u001b[37m\u001b[0m \u001b[1m0s\u001b[0m 6ms/step - loss: 2401.0520 - mse: 12651663.0000 - val_loss: 2484.7476 - val_mse: 10185969.0000\n",
      "Epoch 68/300\n",
      "\u001b[1m10/10\u001b[0m \u001b[32m━━━━━━━━━━━━━━━━━━━━\u001b[0m\u001b[37m\u001b[0m \u001b[1m0s\u001b[0m 6ms/step - loss: 2380.0972 - mse: 12320986.0000 - val_loss: 2438.6172 - val_mse: 9687942.0000\n",
      "Epoch 69/300\n",
      "\u001b[1m10/10\u001b[0m \u001b[32m━━━━━━━━━━━━━━━━━━━━\u001b[0m\u001b[37m\u001b[0m \u001b[1m0s\u001b[0m 6ms/step - loss: 2150.3259 - mse: 8581255.0000 - val_loss: 2393.7910 - val_mse: 9517571.0000\n",
      "Epoch 70/300\n",
      "\u001b[1m10/10\u001b[0m \u001b[32m━━━━━━━━━━━━━━━━━━━━\u001b[0m\u001b[37m\u001b[0m \u001b[1m0s\u001b[0m 6ms/step - loss: 2144.7136 - mse: 8345682.5000 - val_loss: 2356.6274 - val_mse: 9249133.0000\n",
      "Epoch 71/300\n",
      "\u001b[1m10/10\u001b[0m \u001b[32m━━━━━━━━━━━━━━━━━━━━\u001b[0m\u001b[37m\u001b[0m \u001b[1m0s\u001b[0m 6ms/step - loss: 2182.8579 - mse: 9939639.0000 - val_loss: 2328.5806 - val_mse: 8951078.0000\n",
      "Epoch 72/300\n",
      "\u001b[1m10/10\u001b[0m \u001b[32m━━━━━━━━━━━━━━━━━━━━\u001b[0m\u001b[37m\u001b[0m \u001b[1m0s\u001b[0m 6ms/step - loss: 2247.7000 - mse: 10810480.0000 - val_loss: 2275.5886 - val_mse: 8665339.0000\n",
      "Epoch 73/300\n",
      "\u001b[1m10/10\u001b[0m \u001b[32m━━━━━━━━━━━━━━━━━━━━\u001b[0m\u001b[37m\u001b[0m \u001b[1m0s\u001b[0m 6ms/step - loss: 2170.0103 - mse: 9418857.0000 - val_loss: 2229.5383 - val_mse: 8397763.0000\n",
      "Epoch 74/300\n",
      "\u001b[1m10/10\u001b[0m \u001b[32m━━━━━━━━━━━━━━━━━━━━\u001b[0m\u001b[37m\u001b[0m \u001b[1m0s\u001b[0m 7ms/step - loss: 2247.3425 - mse: 11093997.0000 - val_loss: 2210.0903 - val_mse: 8147061.5000\n",
      "Epoch 75/300\n",
      "\u001b[1m10/10\u001b[0m \u001b[32m━━━━━━━━━━━━━━━━━━━━\u001b[0m\u001b[37m\u001b[0m \u001b[1m0s\u001b[0m 6ms/step - loss: 2134.7625 - mse: 8732686.0000 - val_loss: 2169.6714 - val_mse: 7865965.0000\n",
      "Epoch 76/300\n",
      "\u001b[1m10/10\u001b[0m \u001b[32m━━━━━━━━━━━━━━━━━━━━\u001b[0m\u001b[37m\u001b[0m \u001b[1m0s\u001b[0m 6ms/step - loss: 1983.7416 - mse: 7089059.0000 - val_loss: 2130.6885 - val_mse: 7679213.5000\n",
      "Epoch 77/300\n",
      "\u001b[1m10/10\u001b[0m \u001b[32m━━━━━━━━━━━━━━━━━━━━\u001b[0m\u001b[37m\u001b[0m \u001b[1m0s\u001b[0m 6ms/step - loss: 1911.2144 - mse: 8681714.0000 - val_loss: 2090.8081 - val_mse: 7414869.0000\n",
      "Epoch 78/300\n",
      "\u001b[1m10/10\u001b[0m \u001b[32m━━━━━━━━━━━━━━━━━━━━\u001b[0m\u001b[37m\u001b[0m \u001b[1m0s\u001b[0m 6ms/step - loss: 1950.5375 - mse: 6709050.5000 - val_loss: 2058.8279 - val_mse: 7100027.0000\n",
      "Epoch 79/300\n",
      "\u001b[1m10/10\u001b[0m \u001b[32m━━━━━━━━━━━━━━━━━━━━\u001b[0m\u001b[37m\u001b[0m \u001b[1m0s\u001b[0m 6ms/step - loss: 1866.5496 - mse: 7262574.5000 - val_loss: 2033.4551 - val_mse: 7000204.0000\n",
      "Epoch 80/300\n",
      "\u001b[1m10/10\u001b[0m \u001b[32m━━━━━━━━━━━━━━━━━━━━\u001b[0m\u001b[37m\u001b[0m \u001b[1m0s\u001b[0m 6ms/step - loss: 1872.6547 - mse: 6891727.5000 - val_loss: 1992.5574 - val_mse: 6782489.0000\n",
      "Epoch 81/300\n",
      "\u001b[1m10/10\u001b[0m \u001b[32m━━━━━━━━━━━━━━━━━━━━\u001b[0m\u001b[37m\u001b[0m \u001b[1m0s\u001b[0m 6ms/step - loss: 2039.8427 - mse: 9190968.0000 - val_loss: 1966.7789 - val_mse: 6550758.5000\n",
      "Epoch 82/300\n",
      "\u001b[1m10/10\u001b[0m \u001b[32m━━━━━━━━━━━━━━━━━━━━\u001b[0m\u001b[37m\u001b[0m \u001b[1m0s\u001b[0m 7ms/step - loss: 1872.1346 - mse: 7209726.5000 - val_loss: 1933.7344 - val_mse: 6335396.5000\n",
      "Epoch 83/300\n",
      "\u001b[1m10/10\u001b[0m \u001b[32m━━━━━━━━━━━━━━━━━━━━\u001b[0m\u001b[37m\u001b[0m \u001b[1m0s\u001b[0m 6ms/step - loss: 1788.5747 - mse: 6917332.5000 - val_loss: 1903.1885 - val_mse: 6210837.0000\n",
      "Epoch 84/300\n",
      "\u001b[1m10/10\u001b[0m \u001b[32m━━━━━━━━━━━━━━━━━━━━\u001b[0m\u001b[37m\u001b[0m \u001b[1m0s\u001b[0m 7ms/step - loss: 1815.6033 - mse: 6903631.0000 - val_loss: 1878.0559 - val_mse: 6021639.0000\n",
      "Epoch 85/300\n",
      "\u001b[1m10/10\u001b[0m \u001b[32m━━━━━━━━━━━━━━━━━━━━\u001b[0m\u001b[37m\u001b[0m \u001b[1m0s\u001b[0m 6ms/step - loss: 1799.9395 - mse: 7208966.5000 - val_loss: 1844.2914 - val_mse: 5830817.0000\n",
      "Epoch 86/300\n",
      "\u001b[1m10/10\u001b[0m \u001b[32m━━━━━━━━━━━━━━━━━━━━\u001b[0m\u001b[37m\u001b[0m \u001b[1m0s\u001b[0m 6ms/step - loss: 1783.2697 - mse: 6453018.0000 - val_loss: 1820.4615 - val_mse: 5655871.5000\n",
      "Epoch 87/300\n",
      "\u001b[1m10/10\u001b[0m \u001b[32m━━━━━━━━━━━━━━━━━━━━\u001b[0m\u001b[37m\u001b[0m \u001b[1m0s\u001b[0m 6ms/step - loss: 1724.3567 - mse: 5819180.5000 - val_loss: 1772.4984 - val_mse: 5386107.0000\n",
      "Epoch 88/300\n",
      "\u001b[1m10/10\u001b[0m \u001b[32m━━━━━━━━━━━━━━━━━━━━\u001b[0m\u001b[37m\u001b[0m \u001b[1m0s\u001b[0m 6ms/step - loss: 1665.1045 - mse: 5636165.0000 - val_loss: 1748.5101 - val_mse: 5316059.0000\n",
      "Epoch 89/300\n",
      "\u001b[1m10/10\u001b[0m \u001b[32m━━━━━━━━━━━━━━━━━━━━\u001b[0m\u001b[37m\u001b[0m \u001b[1m0s\u001b[0m 6ms/step - loss: 1676.1511 - mse: 5901277.5000 - val_loss: 1741.0234 - val_mse: 5202893.0000\n",
      "Epoch 90/300\n",
      "\u001b[1m10/10\u001b[0m \u001b[32m━━━━━━━━━━━━━━━━━━━━\u001b[0m\u001b[37m\u001b[0m \u001b[1m0s\u001b[0m 6ms/step - loss: 1594.7369 - mse: 5301019.0000 - val_loss: 1702.2396 - val_mse: 4973388.0000\n",
      "Epoch 91/300\n",
      "\u001b[1m10/10\u001b[0m \u001b[32m━━━━━━━━━━━━━━━━━━━━\u001b[0m\u001b[37m\u001b[0m \u001b[1m0s\u001b[0m 6ms/step - loss: 1568.2117 - mse: 4977923.5000 - val_loss: 1682.1569 - val_mse: 4886879.0000\n",
      "Epoch 92/300\n",
      "\u001b[1m10/10\u001b[0m \u001b[32m━━━━━━━━━━━━━━━━━━━━\u001b[0m\u001b[37m\u001b[0m \u001b[1m0s\u001b[0m 6ms/step - loss: 1589.2273 - mse: 5187636.0000 - val_loss: 1665.0457 - val_mse: 4765454.5000\n",
      "Epoch 93/300\n",
      "\u001b[1m10/10\u001b[0m \u001b[32m━━━━━━━━━━━━━━━━━━━━\u001b[0m\u001b[37m\u001b[0m \u001b[1m0s\u001b[0m 6ms/step - loss: 1512.8083 - mse: 5817024.0000 - val_loss: 1639.1500 - val_mse: 4632892.0000\n",
      "Epoch 94/300\n",
      "\u001b[1m10/10\u001b[0m \u001b[32m━━━━━━━━━━━━━━━━━━━━\u001b[0m\u001b[37m\u001b[0m \u001b[1m0s\u001b[0m 6ms/step - loss: 1488.6179 - mse: 4902702.5000 - val_loss: 1605.8265 - val_mse: 4484068.5000\n",
      "Epoch 95/300\n",
      "\u001b[1m10/10\u001b[0m \u001b[32m━━━━━━━━━━━━━━━━━━━━\u001b[0m\u001b[37m\u001b[0m \u001b[1m0s\u001b[0m 7ms/step - loss: 1501.1370 - mse: 4749108.5000 - val_loss: 1585.3739 - val_mse: 4378947.5000\n",
      "Epoch 96/300\n",
      "\u001b[1m10/10\u001b[0m \u001b[32m━━━━━━━━━━━━━━━━━━━━\u001b[0m\u001b[37m\u001b[0m \u001b[1m0s\u001b[0m 7ms/step - loss: 1538.0681 - mse: 5307932.5000 - val_loss: 1559.9729 - val_mse: 4272254.5000\n",
      "Epoch 97/300\n",
      "\u001b[1m10/10\u001b[0m \u001b[32m━━━━━━━━━━━━━━━━━━━━\u001b[0m\u001b[37m\u001b[0m \u001b[1m0s\u001b[0m 7ms/step - loss: 1453.7000 - mse: 3926590.0000 - val_loss: 1541.7761 - val_mse: 4126808.5000\n",
      "Epoch 98/300\n",
      "\u001b[1m10/10\u001b[0m \u001b[32m━━━━━━━━━━━━━━━━━━━━\u001b[0m\u001b[37m\u001b[0m \u001b[1m0s\u001b[0m 7ms/step - loss: 1321.1833 - mse: 3422956.7500 - val_loss: 1553.0779 - val_mse: 4138911.2500\n",
      "Epoch 99/300\n",
      "\u001b[1m10/10\u001b[0m \u001b[32m━━━━━━━━━━━━━━━━━━━━\u001b[0m\u001b[37m\u001b[0m \u001b[1m0s\u001b[0m 6ms/step - loss: 1517.8104 - mse: 4913231.5000 - val_loss: 1494.2418 - val_mse: 3907160.7500\n",
      "Epoch 100/300\n",
      "\u001b[1m10/10\u001b[0m \u001b[32m━━━━━━━━━━━━━━━━━━━━\u001b[0m\u001b[37m\u001b[0m \u001b[1m0s\u001b[0m 6ms/step - loss: 1551.9172 - mse: 6225314.5000 - val_loss: 1467.4528 - val_mse: 3776964.7500\n",
      "Epoch 101/300\n",
      "\u001b[1m10/10\u001b[0m \u001b[32m━━━━━━━━━━━━━━━━━━━━\u001b[0m\u001b[37m\u001b[0m \u001b[1m0s\u001b[0m 7ms/step - loss: 1381.2515 - mse: 3851685.0000 - val_loss: 1458.9711 - val_mse: 3743423.2500\n",
      "Epoch 102/300\n",
      "\u001b[1m10/10\u001b[0m \u001b[32m━━━━━━━━━━━━━━━━━━━━\u001b[0m\u001b[37m\u001b[0m \u001b[1m0s\u001b[0m 7ms/step - loss: 1452.0421 - mse: 4496993.0000 - val_loss: 1438.0153 - val_mse: 3646412.5000\n",
      "Epoch 103/300\n",
      "\u001b[1m10/10\u001b[0m \u001b[32m━━━━━━━━━━━━━━━━━━━━\u001b[0m\u001b[37m\u001b[0m \u001b[1m0s\u001b[0m 6ms/step - loss: 1387.3759 - mse: 3732754.7500 - val_loss: 1416.0205 - val_mse: 3539350.5000\n",
      "Epoch 104/300\n",
      "\u001b[1m10/10\u001b[0m \u001b[32m━━━━━━━━━━━━━━━━━━━━\u001b[0m\u001b[37m\u001b[0m \u001b[1m0s\u001b[0m 6ms/step - loss: 1384.9697 - mse: 4823734.5000 - val_loss: 1381.2605 - val_mse: 3368847.2500\n",
      "Epoch 105/300\n",
      "\u001b[1m10/10\u001b[0m \u001b[32m━━━━━━━━━━━━━━━━━━━━\u001b[0m\u001b[37m\u001b[0m \u001b[1m0s\u001b[0m 7ms/step - loss: 1373.6674 - mse: 4083712.5000 - val_loss: 1390.7390 - val_mse: 3369276.0000\n",
      "Epoch 106/300\n",
      "\u001b[1m10/10\u001b[0m \u001b[32m━━━━━━━━━━━━━━━━━━━━\u001b[0m\u001b[37m\u001b[0m \u001b[1m0s\u001b[0m 8ms/step - loss: 1270.8325 - mse: 3321489.5000 - val_loss: 1352.8353 - val_mse: 3253700.5000\n",
      "Epoch 107/300\n",
      "\u001b[1m10/10\u001b[0m \u001b[32m━━━━━━━━━━━━━━━━━━━━\u001b[0m\u001b[37m\u001b[0m \u001b[1m0s\u001b[0m 7ms/step - loss: 1235.2009 - mse: 2753940.0000 - val_loss: 1334.7639 - val_mse: 3187829.7500\n",
      "Epoch 108/300\n",
      "\u001b[1m10/10\u001b[0m \u001b[32m━━━━━━━━━━━━━━━━━━━━\u001b[0m\u001b[37m\u001b[0m \u001b[1m0s\u001b[0m 6ms/step - loss: 1280.5570 - mse: 3778665.5000 - val_loss: 1306.3474 - val_mse: 3030974.5000\n",
      "Epoch 109/300\n",
      "\u001b[1m10/10\u001b[0m \u001b[32m━━━━━━━━━━━━━━━━━━━━\u001b[0m\u001b[37m\u001b[0m \u001b[1m0s\u001b[0m 6ms/step - loss: 1211.2208 - mse: 2935579.7500 - val_loss: 1305.8693 - val_mse: 3004429.5000\n",
      "Epoch 110/300\n",
      "\u001b[1m10/10\u001b[0m \u001b[32m━━━━━━━━━━━━━━━━━━━━\u001b[0m\u001b[37m\u001b[0m \u001b[1m0s\u001b[0m 6ms/step - loss: 1266.0332 - mse: 3818372.5000 - val_loss: 1303.1304 - val_mse: 3005080.2500\n",
      "Epoch 111/300\n",
      "\u001b[1m10/10\u001b[0m \u001b[32m━━━━━━━━━━━━━━━━━━━━\u001b[0m\u001b[37m\u001b[0m \u001b[1m0s\u001b[0m 6ms/step - loss: 1127.4194 - mse: 2563961.7500 - val_loss: 1268.7629 - val_mse: 2830751.2500\n",
      "Epoch 112/300\n",
      "\u001b[1m10/10\u001b[0m \u001b[32m━━━━━━━━━━━━━━━━━━━━\u001b[0m\u001b[37m\u001b[0m \u001b[1m0s\u001b[0m 6ms/step - loss: 1063.2839 - mse: 2215181.2500 - val_loss: 1231.8949 - val_mse: 2732610.5000\n",
      "Epoch 113/300\n",
      "\u001b[1m10/10\u001b[0m \u001b[32m━━━━━━━━━━━━━━━━━━━━\u001b[0m\u001b[37m\u001b[0m \u001b[1m0s\u001b[0m 6ms/step - loss: 1164.4100 - mse: 3234293.0000 - val_loss: 1231.4253 - val_mse: 2758522.5000\n",
      "Epoch 114/300\n",
      "\u001b[1m10/10\u001b[0m \u001b[32m━━━━━━━━━━━━━━━━━━━━\u001b[0m\u001b[37m\u001b[0m \u001b[1m0s\u001b[0m 6ms/step - loss: 1145.4480 - mse: 2532826.2500 - val_loss: 1217.8433 - val_mse: 2667894.5000\n",
      "Epoch 115/300\n",
      "\u001b[1m10/10\u001b[0m \u001b[32m━━━━━━━━━━━━━━━━━━━━\u001b[0m\u001b[37m\u001b[0m \u001b[1m0s\u001b[0m 8ms/step - loss: 1250.8204 - mse: 3993485.2500 - val_loss: 1187.8875 - val_mse: 2565675.2500\n",
      "Epoch 116/300\n",
      "\u001b[1m10/10\u001b[0m \u001b[32m━━━━━━━━━━━━━━━━━━━━\u001b[0m\u001b[37m\u001b[0m \u001b[1m0s\u001b[0m 7ms/step - loss: 1212.8291 - mse: 3801199.0000 - val_loss: 1175.9882 - val_mse: 2489865.2500\n",
      "Epoch 117/300\n",
      "\u001b[1m10/10\u001b[0m \u001b[32m━━━━━━━━━━━━━━━━━━━━\u001b[0m\u001b[37m\u001b[0m \u001b[1m0s\u001b[0m 7ms/step - loss: 1122.3625 - mse: 2537605.5000 - val_loss: 1170.6121 - val_mse: 2482845.2500\n",
      "Epoch 118/300\n",
      "\u001b[1m10/10\u001b[0m \u001b[32m━━━━━━━━━━━━━━━━━━━━\u001b[0m\u001b[37m\u001b[0m \u001b[1m0s\u001b[0m 6ms/step - loss: 1088.9631 - mse: 2463963.5000 - val_loss: 1138.5494 - val_mse: 2352526.5000\n",
      "Epoch 119/300\n",
      "\u001b[1m10/10\u001b[0m \u001b[32m━━━━━━━━━━━━━━━━━━━━\u001b[0m\u001b[37m\u001b[0m \u001b[1m0s\u001b[0m 7ms/step - loss: 1103.6235 - mse: 2432859.7500 - val_loss: 1123.1504 - val_mse: 2293319.5000\n",
      "Epoch 120/300\n",
      "\u001b[1m10/10\u001b[0m \u001b[32m━━━━━━━━━━━━━━━━━━━━\u001b[0m\u001b[37m\u001b[0m \u001b[1m0s\u001b[0m 7ms/step - loss: 1042.4912 - mse: 2592620.0000 - val_loss: 1130.7704 - val_mse: 2270325.2500\n",
      "Epoch 121/300\n",
      "\u001b[1m10/10\u001b[0m \u001b[32m━━━━━━━━━━━━━━━━━━━━\u001b[0m\u001b[37m\u001b[0m \u001b[1m0s\u001b[0m 7ms/step - loss: 1166.0471 - mse: 2997816.0000 - val_loss: 1125.1396 - val_mse: 2304280.7500\n",
      "Epoch 122/300\n",
      "\u001b[1m10/10\u001b[0m \u001b[32m━━━━━━━━━━━━━━━━━━━━\u001b[0m\u001b[37m\u001b[0m \u001b[1m0s\u001b[0m 7ms/step - loss: 957.6063 - mse: 1912481.0000 - val_loss: 1074.5006 - val_mse: 2114926.7500\n",
      "Epoch 123/300\n",
      "\u001b[1m10/10\u001b[0m \u001b[32m━━━━━━━━━━━━━━━━━━━━\u001b[0m\u001b[37m\u001b[0m \u001b[1m0s\u001b[0m 7ms/step - loss: 990.7596 - mse: 2369265.2500 - val_loss: 1066.0533 - val_mse: 2076258.3750\n",
      "Epoch 124/300\n",
      "\u001b[1m10/10\u001b[0m \u001b[32m━━━━━━━━━━━━━━━━━━━━\u001b[0m\u001b[37m\u001b[0m \u001b[1m0s\u001b[0m 6ms/step - loss: 970.2928 - mse: 2380484.7500 - val_loss: 1054.7965 - val_mse: 2070112.0000\n",
      "Epoch 125/300\n",
      "\u001b[1m10/10\u001b[0m \u001b[32m━━━━━━━━━━━━━━━━━━━━\u001b[0m\u001b[37m\u001b[0m \u001b[1m0s\u001b[0m 7ms/step - loss: 1066.8452 - mse: 2658849.0000 - val_loss: 1035.8337 - val_mse: 1974628.7500\n",
      "Epoch 126/300\n",
      "\u001b[1m10/10\u001b[0m \u001b[32m━━━━━━━━━━━━━━━━━━━━\u001b[0m\u001b[37m\u001b[0m \u001b[1m0s\u001b[0m 6ms/step - loss: 1044.8177 - mse: 2730470.7500 - val_loss: 1021.0451 - val_mse: 1940584.7500\n",
      "Epoch 127/300\n",
      "\u001b[1m10/10\u001b[0m \u001b[32m━━━━━━━━━━━━━━━━━━━━\u001b[0m\u001b[37m\u001b[0m \u001b[1m0s\u001b[0m 7ms/step - loss: 851.7609 - mse: 1532692.2500 - val_loss: 1024.4104 - val_mse: 1950519.2500\n",
      "Epoch 128/300\n",
      "\u001b[1m10/10\u001b[0m \u001b[32m━━━━━━━━━━━━━━━━━━━━\u001b[0m\u001b[37m\u001b[0m \u001b[1m0s\u001b[0m 7ms/step - loss: 978.7093 - mse: 2293076.7500 - val_loss: 997.8215 - val_mse: 1869456.3750\n",
      "Epoch 129/300\n",
      "\u001b[1m10/10\u001b[0m \u001b[32m━━━━━━━━━━━━━━━━━━━━\u001b[0m\u001b[37m\u001b[0m \u001b[1m0s\u001b[0m 7ms/step - loss: 918.8827 - mse: 1795963.6250 - val_loss: 971.4295 - val_mse: 1770232.3750\n",
      "Epoch 130/300\n",
      "\u001b[1m10/10\u001b[0m \u001b[32m━━━━━━━━━━━━━━━━━━━━\u001b[0m\u001b[37m\u001b[0m \u001b[1m0s\u001b[0m 7ms/step - loss: 880.6396 - mse: 2130988.5000 - val_loss: 1009.9088 - val_mse: 1887973.6250\n",
      "Epoch 131/300\n",
      "\u001b[1m10/10\u001b[0m \u001b[32m━━━━━━━━━━━━━━━━━━━━\u001b[0m\u001b[37m\u001b[0m \u001b[1m0s\u001b[0m 7ms/step - loss: 930.0271 - mse: 2018721.3750 - val_loss: 976.1935 - val_mse: 1767249.2500\n",
      "Epoch 132/300\n",
      "\u001b[1m10/10\u001b[0m \u001b[32m━━━━━━━━━━━━━━━━━━━━\u001b[0m\u001b[37m\u001b[0m \u001b[1m0s\u001b[0m 6ms/step - loss: 964.9572 - mse: 2670370.0000 - val_loss: 935.8613 - val_mse: 1694904.3750\n",
      "Epoch 133/300\n",
      "\u001b[1m10/10\u001b[0m \u001b[32m━━━━━━━━━━━━━━━━━━━━\u001b[0m\u001b[37m\u001b[0m \u001b[1m0s\u001b[0m 7ms/step - loss: 998.5708 - mse: 2709528.0000 - val_loss: 947.7591 - val_mse: 1665662.8750\n",
      "Epoch 134/300\n",
      "\u001b[1m10/10\u001b[0m \u001b[32m━━━━━━━━━━━━━━━━━━━━\u001b[0m\u001b[37m\u001b[0m \u001b[1m0s\u001b[0m 6ms/step - loss: 867.5239 - mse: 1874686.8750 - val_loss: 915.8713 - val_mse: 1607776.1250\n",
      "Epoch 135/300\n",
      "\u001b[1m10/10\u001b[0m \u001b[32m━━━━━━━━━━━━━━━━━━━━\u001b[0m\u001b[37m\u001b[0m \u001b[1m0s\u001b[0m 6ms/step - loss: 882.6329 - mse: 2208062.0000 - val_loss: 896.9736 - val_mse: 1569358.6250\n",
      "Epoch 136/300\n",
      "\u001b[1m10/10\u001b[0m \u001b[32m━━━━━━━━━━━━━━━━━━━━\u001b[0m\u001b[37m\u001b[0m \u001b[1m0s\u001b[0m 6ms/step - loss: 868.8109 - mse: 1855971.7500 - val_loss: 897.5731 - val_mse: 1541914.7500\n",
      "Epoch 137/300\n",
      "\u001b[1m10/10\u001b[0m \u001b[32m━━━━━━━━━━━━━━━━━━━━\u001b[0m\u001b[37m\u001b[0m \u001b[1m0s\u001b[0m 6ms/step - loss: 895.7870 - mse: 2386508.7500 - val_loss: 882.7283 - val_mse: 1484192.0000\n",
      "Epoch 138/300\n",
      "\u001b[1m10/10\u001b[0m \u001b[32m━━━━━━━━━━━━━━━━━━━━\u001b[0m\u001b[37m\u001b[0m \u001b[1m0s\u001b[0m 7ms/step - loss: 809.4880 - mse: 1598007.0000 - val_loss: 873.5753 - val_mse: 1450131.6250\n",
      "Epoch 139/300\n",
      "\u001b[1m10/10\u001b[0m \u001b[32m━━━━━━━━━━━━━━━━━━━━\u001b[0m\u001b[37m\u001b[0m \u001b[1m0s\u001b[0m 8ms/step - loss: 804.0123 - mse: 1591653.2500 - val_loss: 869.7121 - val_mse: 1500154.6250\n",
      "Epoch 140/300\n",
      "\u001b[1m10/10\u001b[0m \u001b[32m━━━━━━━━━━━━━━━━━━━━\u001b[0m\u001b[37m\u001b[0m \u001b[1m0s\u001b[0m 8ms/step - loss: 888.9269 - mse: 2415425.5000 - val_loss: 862.4885 - val_mse: 1442922.8750\n",
      "Epoch 141/300\n",
      "\u001b[1m10/10\u001b[0m \u001b[32m━━━━━━━━━━━━━━━━━━━━\u001b[0m\u001b[37m\u001b[0m \u001b[1m0s\u001b[0m 7ms/step - loss: 850.7692 - mse: 2191973.2500 - val_loss: 843.0884 - val_mse: 1371243.8750\n",
      "Epoch 142/300\n",
      "\u001b[1m10/10\u001b[0m \u001b[32m━━━━━━━━━━━━━━━━━━━━\u001b[0m\u001b[37m\u001b[0m \u001b[1m0s\u001b[0m 7ms/step - loss: 730.4266 - mse: 1151006.8750 - val_loss: 845.4520 - val_mse: 1440560.6250\n",
      "Epoch 143/300\n",
      "\u001b[1m10/10\u001b[0m \u001b[32m━━━━━━━━━━━━━━━━━━━━\u001b[0m\u001b[37m\u001b[0m \u001b[1m0s\u001b[0m 6ms/step - loss: 721.7144 - mse: 1434067.0000 - val_loss: 840.5677 - val_mse: 1356218.3750\n",
      "Epoch 144/300\n",
      "\u001b[1m10/10\u001b[0m \u001b[32m━━━━━━━━━━━━━━━━━━━━\u001b[0m\u001b[37m\u001b[0m \u001b[1m0s\u001b[0m 8ms/step - loss: 770.2331 - mse: 1631235.6250 - val_loss: 795.3993 - val_mse: 1280172.1250\n",
      "Epoch 145/300\n",
      "\u001b[1m10/10\u001b[0m \u001b[32m━━━━━━━━━━━━━━━━━━━━\u001b[0m\u001b[37m\u001b[0m \u001b[1m0s\u001b[0m 7ms/step - loss: 766.2321 - mse: 1536772.6250 - val_loss: 793.5600 - val_mse: 1226274.5000\n",
      "Epoch 146/300\n",
      "\u001b[1m10/10\u001b[0m \u001b[32m━━━━━━━━━━━━━━━━━━━━\u001b[0m\u001b[37m\u001b[0m \u001b[1m0s\u001b[0m 7ms/step - loss: 726.6378 - mse: 1267857.8750 - val_loss: 804.1734 - val_mse: 1277660.6250\n",
      "Epoch 147/300\n",
      "\u001b[1m10/10\u001b[0m \u001b[32m━━━━━━━━━━━━━━━━━━━━\u001b[0m\u001b[37m\u001b[0m \u001b[1m0s\u001b[0m 6ms/step - loss: 761.5082 - mse: 1383180.6250 - val_loss: 775.5412 - val_mse: 1248196.0000\n",
      "Epoch 148/300\n",
      "\u001b[1m10/10\u001b[0m \u001b[32m━━━━━━━━━━━━━━━━━━━━\u001b[0m\u001b[37m\u001b[0m \u001b[1m0s\u001b[0m 7ms/step - loss: 715.0212 - mse: 1135192.6250 - val_loss: 762.0968 - val_mse: 1201597.6250\n",
      "Epoch 149/300\n",
      "\u001b[1m10/10\u001b[0m \u001b[32m━━━━━━━━━━━━━━━━━━━━\u001b[0m\u001b[37m\u001b[0m \u001b[1m0s\u001b[0m 6ms/step - loss: 700.3062 - mse: 1111112.5000 - val_loss: 756.3530 - val_mse: 1177848.2500\n",
      "Epoch 150/300\n",
      "\u001b[1m10/10\u001b[0m \u001b[32m━━━━━━━━━━━━━━━━━━━━\u001b[0m\u001b[37m\u001b[0m \u001b[1m0s\u001b[0m 6ms/step - loss: 717.1237 - mse: 1352386.0000 - val_loss: 746.3493 - val_mse: 1145068.6250\n",
      "Epoch 151/300\n",
      "\u001b[1m10/10\u001b[0m \u001b[32m━━━━━━━━━━━━━━━━━━━━\u001b[0m\u001b[37m\u001b[0m \u001b[1m0s\u001b[0m 6ms/step - loss: 714.7211 - mse: 1280164.8750 - val_loss: 744.4507 - val_mse: 1160404.7500\n",
      "Epoch 152/300\n",
      "\u001b[1m10/10\u001b[0m \u001b[32m━━━━━━━━━━━━━━━━━━━━\u001b[0m\u001b[37m\u001b[0m \u001b[1m0s\u001b[0m 6ms/step - loss: 676.9148 - mse: 1272771.6250 - val_loss: 758.6730 - val_mse: 1192724.0000\n",
      "Epoch 153/300\n",
      "\u001b[1m10/10\u001b[0m \u001b[32m━━━━━━━━━━━━━━━━━━━━\u001b[0m\u001b[37m\u001b[0m \u001b[1m0s\u001b[0m 6ms/step - loss: 755.3602 - mse: 1665995.7500 - val_loss: 734.7842 - val_mse: 1052792.0000\n",
      "Epoch 154/300\n",
      "\u001b[1m10/10\u001b[0m \u001b[32m━━━━━━━━━━━━━━━━━━━━\u001b[0m\u001b[37m\u001b[0m \u001b[1m0s\u001b[0m 7ms/step - loss: 706.2053 - mse: 1361616.3750 - val_loss: 706.2019 - val_mse: 1077285.3750\n",
      "Epoch 155/300\n",
      "\u001b[1m10/10\u001b[0m \u001b[32m━━━━━━━━━━━━━━━━━━━━\u001b[0m\u001b[37m\u001b[0m \u001b[1m0s\u001b[0m 7ms/step - loss: 638.5187 - mse: 963448.8125 - val_loss: 706.4037 - val_mse: 1072225.1250\n",
      "Epoch 156/300\n",
      "\u001b[1m10/10\u001b[0m \u001b[32m━━━━━━━━━━━━━━━━━━━━\u001b[0m\u001b[37m\u001b[0m \u001b[1m0s\u001b[0m 6ms/step - loss: 601.2021 - mse: 857428.5625 - val_loss: 684.8768 - val_mse: 983046.8125\n",
      "Epoch 157/300\n",
      "\u001b[1m10/10\u001b[0m \u001b[32m━━━━━━━━━━━━━━━━━━━━\u001b[0m\u001b[37m\u001b[0m \u001b[1m0s\u001b[0m 6ms/step - loss: 681.8171 - mse: 1646810.3750 - val_loss: 686.8579 - val_mse: 977234.3750\n",
      "Epoch 158/300\n",
      "\u001b[1m10/10\u001b[0m \u001b[32m━━━━━━━━━━━━━━━━━━━━\u001b[0m\u001b[37m\u001b[0m \u001b[1m0s\u001b[0m 6ms/step - loss: 693.1002 - mse: 1622016.2500 - val_loss: 674.2357 - val_mse: 975514.3750\n",
      "Epoch 159/300\n",
      "\u001b[1m10/10\u001b[0m \u001b[32m━━━━━━━━━━━━━━━━━━━━\u001b[0m\u001b[37m\u001b[0m \u001b[1m0s\u001b[0m 6ms/step - loss: 598.4729 - mse: 1067639.6250 - val_loss: 667.9111 - val_mse: 987161.8750\n",
      "Epoch 160/300\n",
      "\u001b[1m10/10\u001b[0m \u001b[32m━━━━━━━━━━━━━━━━━━━━\u001b[0m\u001b[37m\u001b[0m \u001b[1m0s\u001b[0m 6ms/step - loss: 597.3112 - mse: 832329.1250 - val_loss: 667.8470 - val_mse: 957488.3125\n",
      "Epoch 161/300\n",
      "\u001b[1m10/10\u001b[0m \u001b[32m━━━━━━━━━━━━━━━━━━━━\u001b[0m\u001b[37m\u001b[0m \u001b[1m0s\u001b[0m 6ms/step - loss: 549.6435 - mse: 734463.4375 - val_loss: 657.0440 - val_mse: 926692.1875\n",
      "Epoch 162/300\n",
      "\u001b[1m10/10\u001b[0m \u001b[32m━━━━━━━━━━━━━━━━━━━━\u001b[0m\u001b[37m\u001b[0m \u001b[1m0s\u001b[0m 6ms/step - loss: 678.7739 - mse: 1579187.2500 - val_loss: 648.7358 - val_mse: 881502.3125\n",
      "Epoch 163/300\n",
      "\u001b[1m10/10\u001b[0m \u001b[32m━━━━━━━━━━━━━━━━━━━━\u001b[0m\u001b[37m\u001b[0m \u001b[1m0s\u001b[0m 7ms/step - loss: 569.7820 - mse: 796886.5000 - val_loss: 631.3412 - val_mse: 885276.3750\n",
      "Epoch 164/300\n",
      "\u001b[1m10/10\u001b[0m \u001b[32m━━━━━━━━━━━━━━━━━━━━\u001b[0m\u001b[37m\u001b[0m \u001b[1m0s\u001b[0m 6ms/step - loss: 557.5082 - mse: 785214.3750 - val_loss: 647.7445 - val_mse: 887198.0000\n",
      "Epoch 165/300\n",
      "\u001b[1m10/10\u001b[0m \u001b[32m━━━━━━━━━━━━━━━━━━━━\u001b[0m\u001b[37m\u001b[0m \u001b[1m0s\u001b[0m 6ms/step - loss: 573.8557 - mse: 1112726.8750 - val_loss: 633.9325 - val_mse: 882727.0000\n",
      "Epoch 166/300\n",
      "\u001b[1m10/10\u001b[0m \u001b[32m━━━━━━━━━━━━━━━━━━━━\u001b[0m\u001b[37m\u001b[0m \u001b[1m0s\u001b[0m 6ms/step - loss: 569.8918 - mse: 975488.9375 - val_loss: 617.0071 - val_mse: 871659.0000\n",
      "Epoch 167/300\n",
      "\u001b[1m10/10\u001b[0m \u001b[32m━━━━━━━━━━━━━━━━━━━━\u001b[0m\u001b[37m\u001b[0m \u001b[1m0s\u001b[0m 6ms/step - loss: 502.3971 - mse: 676739.8750 - val_loss: 629.8116 - val_mse: 830741.6250\n",
      "Epoch 168/300\n",
      "\u001b[1m10/10\u001b[0m \u001b[32m━━━━━━━━━━━━━━━━━━━━\u001b[0m\u001b[37m\u001b[0m \u001b[1m0s\u001b[0m 6ms/step - loss: 551.6384 - mse: 856422.5000 - val_loss: 629.3870 - val_mse: 846948.3750\n",
      "Epoch 169/300\n",
      "\u001b[1m10/10\u001b[0m \u001b[32m━━━━━━━━━━━━━━━━━━━━\u001b[0m\u001b[37m\u001b[0m \u001b[1m0s\u001b[0m 7ms/step - loss: 537.9657 - mse: 814577.8750 - val_loss: 586.7579 - val_mse: 794707.1875\n",
      "Epoch 170/300\n",
      "\u001b[1m10/10\u001b[0m \u001b[32m━━━━━━━━━━━━━━━━━━━━\u001b[0m\u001b[37m\u001b[0m \u001b[1m0s\u001b[0m 8ms/step - loss: 519.6656 - mse: 652137.3750 - val_loss: 583.4221 - val_mse: 774408.8750\n",
      "Epoch 171/300\n",
      "\u001b[1m10/10\u001b[0m \u001b[32m━━━━━━━━━━━━━━━━━━━━\u001b[0m\u001b[37m\u001b[0m \u001b[1m0s\u001b[0m 7ms/step - loss: 476.4277 - mse: 669676.1250 - val_loss: 586.1328 - val_mse: 753042.8750\n",
      "Epoch 172/300\n",
      "\u001b[1m10/10\u001b[0m \u001b[32m━━━━━━━━━━━━━━━━━━━━\u001b[0m\u001b[37m\u001b[0m \u001b[1m0s\u001b[0m 7ms/step - loss: 519.0671 - mse: 876911.6875 - val_loss: 574.6719 - val_mse: 761228.2500\n",
      "Epoch 173/300\n",
      "\u001b[1m10/10\u001b[0m \u001b[32m━━━━━━━━━━━━━━━━━━━━\u001b[0m\u001b[37m\u001b[0m \u001b[1m0s\u001b[0m 7ms/step - loss: 443.4532 - mse: 598730.0625 - val_loss: 563.9942 - val_mse: 736867.1250\n",
      "Epoch 174/300\n",
      "\u001b[1m10/10\u001b[0m \u001b[32m━━━━━━━━━━━━━━━━━━━━\u001b[0m\u001b[37m\u001b[0m \u001b[1m0s\u001b[0m 6ms/step - loss: 461.3012 - mse: 530985.6250 - val_loss: 578.7176 - val_mse: 740163.8750\n",
      "Epoch 175/300\n",
      "\u001b[1m10/10\u001b[0m \u001b[32m━━━━━━━━━━━━━━━━━━━━\u001b[0m\u001b[37m\u001b[0m \u001b[1m0s\u001b[0m 7ms/step - loss: 519.5876 - mse: 879152.0625 - val_loss: 560.0170 - val_mse: 694707.8750\n",
      "Epoch 176/300\n",
      "\u001b[1m10/10\u001b[0m \u001b[32m━━━━━━━━━━━━━━━━━━━━\u001b[0m\u001b[37m\u001b[0m \u001b[1m0s\u001b[0m 7ms/step - loss: 468.5472 - mse: 538134.3750 - val_loss: 554.2471 - val_mse: 736761.0000\n",
      "Epoch 177/300\n",
      "\u001b[1m10/10\u001b[0m \u001b[32m━━━━━━━━━━━━━━━━━━━━\u001b[0m\u001b[37m\u001b[0m \u001b[1m0s\u001b[0m 6ms/step - loss: 490.1239 - mse: 875636.6875 - val_loss: 541.7474 - val_mse: 698398.1250\n",
      "Epoch 178/300\n",
      "\u001b[1m10/10\u001b[0m \u001b[32m━━━━━━━━━━━━━━━━━━━━\u001b[0m\u001b[37m\u001b[0m \u001b[1m0s\u001b[0m 7ms/step - loss: 438.7244 - mse: 551267.8125 - val_loss: 533.0355 - val_mse: 656236.0000\n",
      "Epoch 179/300\n",
      "\u001b[1m10/10\u001b[0m \u001b[32m━━━━━━━━━━━━━━━━━━━━\u001b[0m\u001b[37m\u001b[0m \u001b[1m0s\u001b[0m 6ms/step - loss: 442.9930 - mse: 601200.7500 - val_loss: 524.9951 - val_mse: 668434.8750\n",
      "Epoch 180/300\n",
      "\u001b[1m10/10\u001b[0m \u001b[32m━━━━━━━━━━━━━━━━━━━━\u001b[0m\u001b[37m\u001b[0m \u001b[1m0s\u001b[0m 6ms/step - loss: 470.7998 - mse: 625824.6875 - val_loss: 522.4761 - val_mse: 672799.6250\n",
      "Epoch 181/300\n",
      "\u001b[1m10/10\u001b[0m \u001b[32m━━━━━━━━━━━━━━━━━━━━\u001b[0m\u001b[37m\u001b[0m \u001b[1m0s\u001b[0m 7ms/step - loss: 479.8143 - mse: 889850.2500 - val_loss: 541.6032 - val_mse: 637844.3750\n",
      "Epoch 182/300\n",
      "\u001b[1m10/10\u001b[0m \u001b[32m━━━━━━━━━━━━━━━━━━━━\u001b[0m\u001b[37m\u001b[0m \u001b[1m0s\u001b[0m 7ms/step - loss: 499.8339 - mse: 887240.6875 - val_loss: 512.7847 - val_mse: 618486.1875\n",
      "Epoch 183/300\n",
      "\u001b[1m10/10\u001b[0m \u001b[32m━━━━━━━━━━━━━━━━━━━━\u001b[0m\u001b[37m\u001b[0m \u001b[1m0s\u001b[0m 8ms/step - loss: 430.3524 - mse: 509259.2812 - val_loss: 507.8198 - val_mse: 633533.3750\n",
      "Epoch 184/300\n",
      "\u001b[1m10/10\u001b[0m \u001b[32m━━━━━━━━━━━━━━━━━━━━\u001b[0m\u001b[37m\u001b[0m \u001b[1m0s\u001b[0m 7ms/step - loss: 447.0533 - mse: 600972.1875 - val_loss: 542.5245 - val_mse: 619853.8750\n",
      "Epoch 185/300\n",
      "\u001b[1m10/10\u001b[0m \u001b[32m━━━━━━━━━━━━━━━━━━━━\u001b[0m\u001b[37m\u001b[0m \u001b[1m0s\u001b[0m 7ms/step - loss: 487.6436 - mse: 828083.3750 - val_loss: 487.5326 - val_mse: 583523.6875\n",
      "Epoch 186/300\n",
      "\u001b[1m10/10\u001b[0m \u001b[32m━━━━━━━━━━━━━━━━━━━━\u001b[0m\u001b[37m\u001b[0m \u001b[1m0s\u001b[0m 8ms/step - loss: 454.9890 - mse: 646440.7500 - val_loss: 496.5405 - val_mse: 591053.0000\n",
      "Epoch 187/300\n",
      "\u001b[1m10/10\u001b[0m \u001b[32m━━━━━━━━━━━━━━━━━━━━\u001b[0m\u001b[37m\u001b[0m \u001b[1m0s\u001b[0m 7ms/step - loss: 398.0960 - mse: 538243.0625 - val_loss: 485.8976 - val_mse: 579760.3125\n",
      "Epoch 188/300\n",
      "\u001b[1m10/10\u001b[0m \u001b[32m━━━━━━━━━━━━━━━━━━━━\u001b[0m\u001b[37m\u001b[0m \u001b[1m0s\u001b[0m 7ms/step - loss: 369.2226 - mse: 424937.8750 - val_loss: 478.5441 - val_mse: 603738.0000\n",
      "Epoch 189/300\n",
      "\u001b[1m10/10\u001b[0m \u001b[32m━━━━━━━━━━━━━━━━━━━━\u001b[0m\u001b[37m\u001b[0m \u001b[1m0s\u001b[0m 6ms/step - loss: 410.7917 - mse: 494175.8438 - val_loss: 478.2479 - val_mse: 543694.1875\n",
      "Epoch 190/300\n",
      "\u001b[1m10/10\u001b[0m \u001b[32m━━━━━━━━━━━━━━━━━━━━\u001b[0m\u001b[37m\u001b[0m \u001b[1m0s\u001b[0m 6ms/step - loss: 468.6190 - mse: 738596.1875 - val_loss: 476.9031 - val_mse: 573499.8750\n",
      "Epoch 191/300\n",
      "\u001b[1m10/10\u001b[0m \u001b[32m━━━━━━━━━━━━━━━━━━━━\u001b[0m\u001b[37m\u001b[0m \u001b[1m0s\u001b[0m 6ms/step - loss: 411.9958 - mse: 679952.0625 - val_loss: 482.6158 - val_mse: 573819.0000\n",
      "Epoch 192/300\n",
      "\u001b[1m10/10\u001b[0m \u001b[32m━━━━━━━━━━━━━━━━━━━━\u001b[0m\u001b[37m\u001b[0m \u001b[1m0s\u001b[0m 6ms/step - loss: 388.3910 - mse: 403257.0000 - val_loss: 480.5479 - val_mse: 545230.5000\n",
      "Epoch 193/300\n",
      "\u001b[1m10/10\u001b[0m \u001b[32m━━━━━━━━━━━━━━━━━━━━\u001b[0m\u001b[37m\u001b[0m \u001b[1m0s\u001b[0m 6ms/step - loss: 406.7278 - mse: 543879.9375 - val_loss: 468.2242 - val_mse: 558679.3750\n",
      "Epoch 194/300\n",
      "\u001b[1m10/10\u001b[0m \u001b[32m━━━━━━━━━━━━━━━━━━━━\u001b[0m\u001b[37m\u001b[0m \u001b[1m0s\u001b[0m 6ms/step - loss: 400.0865 - mse: 480263.5938 - val_loss: 453.2152 - val_mse: 530425.8750\n",
      "Epoch 195/300\n",
      "\u001b[1m10/10\u001b[0m \u001b[32m━━━━━━━━━━━━━━━━━━━━\u001b[0m\u001b[37m\u001b[0m \u001b[1m0s\u001b[0m 6ms/step - loss: 391.5577 - mse: 606353.1250 - val_loss: 452.6630 - val_mse: 525535.1875\n",
      "Epoch 196/300\n",
      "\u001b[1m10/10\u001b[0m \u001b[32m━━━━━━━━━━━━━━━━━━━━\u001b[0m\u001b[37m\u001b[0m \u001b[1m0s\u001b[0m 6ms/step - loss: 371.7916 - mse: 391025.4062 - val_loss: 452.0239 - val_mse: 534880.7500\n",
      "Epoch 197/300\n",
      "\u001b[1m10/10\u001b[0m \u001b[32m━━━━━━━━━━━━━━━━━━━━\u001b[0m\u001b[37m\u001b[0m \u001b[1m0s\u001b[0m 7ms/step - loss: 398.1281 - mse: 631004.8750 - val_loss: 451.7664 - val_mse: 497681.9375\n",
      "Epoch 198/300\n",
      "\u001b[1m10/10\u001b[0m \u001b[32m━━━━━━━━━━━━━━━━━━━━\u001b[0m\u001b[37m\u001b[0m \u001b[1m0s\u001b[0m 6ms/step - loss: 386.5157 - mse: 445583.4688 - val_loss: 452.4289 - val_mse: 513046.3438\n",
      "Epoch 199/300\n",
      "\u001b[1m10/10\u001b[0m \u001b[32m━━━━━━━━━━━━━━━━━━━━\u001b[0m\u001b[37m\u001b[0m \u001b[1m0s\u001b[0m 6ms/step - loss: 371.9698 - mse: 468402.6250 - val_loss: 451.0076 - val_mse: 498264.9375\n",
      "Epoch 200/300\n",
      "\u001b[1m10/10\u001b[0m \u001b[32m━━━━━━━━━━━━━━━━━━━━\u001b[0m\u001b[37m\u001b[0m \u001b[1m0s\u001b[0m 6ms/step - loss: 363.6468 - mse: 387804.6562 - val_loss: 429.1369 - val_mse: 467997.3125\n",
      "Epoch 201/300\n",
      "\u001b[1m10/10\u001b[0m \u001b[32m━━━━━━━━━━━━━━━━━━━━\u001b[0m\u001b[37m\u001b[0m \u001b[1m0s\u001b[0m 6ms/step - loss: 395.4563 - mse: 535763.9375 - val_loss: 432.0641 - val_mse: 490657.5938\n",
      "Epoch 202/300\n",
      "\u001b[1m10/10\u001b[0m \u001b[32m━━━━━━━━━━━━━━━━━━━━\u001b[0m\u001b[37m\u001b[0m \u001b[1m0s\u001b[0m 6ms/step - loss: 327.9869 - mse: 287332.1250 - val_loss: 444.7686 - val_mse: 488739.9062\n",
      "Epoch 203/300\n",
      "\u001b[1m10/10\u001b[0m \u001b[32m━━━━━━━━━━━━━━━━━━━━\u001b[0m\u001b[37m\u001b[0m \u001b[1m0s\u001b[0m 8ms/step - loss: 354.2925 - mse: 380098.8125 - val_loss: 448.5273 - val_mse: 476273.5625\n",
      "Epoch 204/300\n",
      "\u001b[1m10/10\u001b[0m \u001b[32m━━━━━━━━━━━━━━━━━━━━\u001b[0m\u001b[37m\u001b[0m \u001b[1m0s\u001b[0m 7ms/step - loss: 412.3105 - mse: 637804.0625 - val_loss: 432.8312 - val_mse: 455708.0938\n",
      "Epoch 205/300\n",
      "\u001b[1m10/10\u001b[0m \u001b[32m━━━━━━━━━━━━━━━━━━━━\u001b[0m\u001b[37m\u001b[0m \u001b[1m0s\u001b[0m 7ms/step - loss: 417.5871 - mse: 802638.0625 - val_loss: 411.1269 - val_mse: 471404.3125\n",
      "Epoch 206/300\n",
      "\u001b[1m10/10\u001b[0m \u001b[32m━━━━━━━━━━━━━━━━━━━━\u001b[0m\u001b[37m\u001b[0m \u001b[1m0s\u001b[0m 6ms/step - loss: 325.5384 - mse: 318128.2188 - val_loss: 419.0361 - val_mse: 457902.0000\n",
      "Epoch 207/300\n",
      "\u001b[1m10/10\u001b[0m \u001b[32m━━━━━━━━━━━━━━━━━━━━\u001b[0m\u001b[37m\u001b[0m \u001b[1m0s\u001b[0m 6ms/step - loss: 318.9150 - mse: 286427.7188 - val_loss: 432.8605 - val_mse: 452115.8125\n",
      "Epoch 208/300\n",
      "\u001b[1m10/10\u001b[0m \u001b[32m━━━━━━━━━━━━━━━━━━━━\u001b[0m\u001b[37m\u001b[0m \u001b[1m0s\u001b[0m 6ms/step - loss: 365.3098 - mse: 509679.1562 - val_loss: 403.5116 - val_mse: 442979.3125\n",
      "Epoch 209/300\n",
      "\u001b[1m10/10\u001b[0m \u001b[32m━━━━━━━━━━━━━━━━━━━━\u001b[0m\u001b[37m\u001b[0m \u001b[1m0s\u001b[0m 6ms/step - loss: 348.0416 - mse: 361121.3750 - val_loss: 437.0080 - val_mse: 447681.9062\n",
      "Epoch 210/300\n",
      "\u001b[1m10/10\u001b[0m \u001b[32m━━━━━━━━━━━━━━━━━━━━\u001b[0m\u001b[37m\u001b[0m \u001b[1m0s\u001b[0m 6ms/step - loss: 348.9435 - mse: 411728.1875 - val_loss: 421.2753 - val_mse: 443413.3125\n",
      "Epoch 211/300\n",
      "\u001b[1m10/10\u001b[0m \u001b[32m━━━━━━━━━━━━━━━━━━━━\u001b[0m\u001b[37m\u001b[0m \u001b[1m0s\u001b[0m 6ms/step - loss: 414.8555 - mse: 783945.8750 - val_loss: 403.4492 - val_mse: 422936.6875\n",
      "Epoch 212/300\n",
      "\u001b[1m10/10\u001b[0m \u001b[32m━━━━━━━━━━━━━━━━━━━━\u001b[0m\u001b[37m\u001b[0m \u001b[1m0s\u001b[0m 6ms/step - loss: 368.0063 - mse: 541260.0625 - val_loss: 402.3200 - val_mse: 461609.5000\n",
      "Epoch 213/300\n",
      "\u001b[1m10/10\u001b[0m \u001b[32m━━━━━━━━━━━━━━━━━━━━\u001b[0m\u001b[37m\u001b[0m \u001b[1m0s\u001b[0m 6ms/step - loss: 327.6008 - mse: 396144.1875 - val_loss: 394.9483 - val_mse: 442846.9062\n",
      "Epoch 214/300\n",
      "\u001b[1m10/10\u001b[0m \u001b[32m━━━━━━━━━━━━━━━━━━━━\u001b[0m\u001b[37m\u001b[0m \u001b[1m0s\u001b[0m 7ms/step - loss: 339.0381 - mse: 393630.9062 - val_loss: 384.5440 - val_mse: 400041.6875\n",
      "Epoch 215/300\n",
      "\u001b[1m10/10\u001b[0m \u001b[32m━━━━━━━━━━━━━━━━━━━━\u001b[0m\u001b[37m\u001b[0m \u001b[1m0s\u001b[0m 6ms/step - loss: 351.5057 - mse: 467643.5625 - val_loss: 402.8754 - val_mse: 420582.8125\n",
      "Epoch 216/300\n",
      "\u001b[1m10/10\u001b[0m \u001b[32m━━━━━━━━━━━━━━━━━━━━\u001b[0m\u001b[37m\u001b[0m \u001b[1m0s\u001b[0m 7ms/step - loss: 314.8789 - mse: 273275.3125 - val_loss: 392.8433 - val_mse: 411338.3438\n",
      "Epoch 217/300\n",
      "\u001b[1m10/10\u001b[0m \u001b[32m━━━━━━━━━━━━━━━━━━━━\u001b[0m\u001b[37m\u001b[0m \u001b[1m0s\u001b[0m 7ms/step - loss: 294.5911 - mse: 230964.8594 - val_loss: 396.3724 - val_mse: 413279.6562\n",
      "Epoch 218/300\n",
      "\u001b[1m10/10\u001b[0m \u001b[32m━━━━━━━━━━━━━━━━━━━━\u001b[0m\u001b[37m\u001b[0m \u001b[1m0s\u001b[0m 6ms/step - loss: 354.2267 - mse: 522277.3438 - val_loss: 412.2169 - val_mse: 415329.0312\n",
      "Epoch 219/300\n",
      "\u001b[1m10/10\u001b[0m \u001b[32m━━━━━━━━━━━━━━━━━━━━\u001b[0m\u001b[37m\u001b[0m \u001b[1m0s\u001b[0m 6ms/step - loss: 334.8908 - mse: 401967.0312 - val_loss: 393.6954 - val_mse: 423301.9062\n",
      "Epoch 220/300\n",
      "\u001b[1m10/10\u001b[0m \u001b[32m━━━━━━━━━━━━━━━━━━━━\u001b[0m\u001b[37m\u001b[0m \u001b[1m0s\u001b[0m 6ms/step - loss: 333.4246 - mse: 377144.2812 - val_loss: 376.3717 - val_mse: 385053.7188\n",
      "Epoch 221/300\n",
      "\u001b[1m10/10\u001b[0m \u001b[32m━━━━━━━━━━━━━━━━━━━━\u001b[0m\u001b[37m\u001b[0m \u001b[1m0s\u001b[0m 6ms/step - loss: 357.0434 - mse: 529237.1250 - val_loss: 401.5837 - val_mse: 416784.1875\n",
      "Epoch 222/300\n",
      "\u001b[1m10/10\u001b[0m \u001b[32m━━━━━━━━━━━━━━━━━━━━\u001b[0m\u001b[37m\u001b[0m \u001b[1m0s\u001b[0m 6ms/step - loss: 296.4225 - mse: 235086.8281 - val_loss: 377.0242 - val_mse: 416980.0625\n",
      "Epoch 223/300\n",
      "\u001b[1m10/10\u001b[0m \u001b[32m━━━━━━━━━━━━━━━━━━━━\u001b[0m\u001b[37m\u001b[0m \u001b[1m0s\u001b[0m 7ms/step - loss: 312.6042 - mse: 342189.6875 - val_loss: 368.4445 - val_mse: 384149.5625\n",
      "Epoch 224/300\n",
      "\u001b[1m10/10\u001b[0m \u001b[32m━━━━━━━━━━━━━━━━━━━━\u001b[0m\u001b[37m\u001b[0m \u001b[1m0s\u001b[0m 7ms/step - loss: 329.2531 - mse: 415672.4375 - val_loss: 388.6884 - val_mse: 415441.0625\n",
      "Epoch 225/300\n",
      "\u001b[1m10/10\u001b[0m \u001b[32m━━━━━━━━━━━━━━━━━━━━\u001b[0m\u001b[37m\u001b[0m \u001b[1m0s\u001b[0m 6ms/step - loss: 311.6737 - mse: 384146.6875 - val_loss: 382.4171 - val_mse: 384088.7500\n",
      "Epoch 226/300\n",
      "\u001b[1m10/10\u001b[0m \u001b[32m━━━━━━━━━━━━━━━━━━━━\u001b[0m\u001b[37m\u001b[0m \u001b[1m0s\u001b[0m 6ms/step - loss: 311.9666 - mse: 338094.5625 - val_loss: 364.1855 - val_mse: 388481.8438\n",
      "Epoch 227/300\n",
      "\u001b[1m10/10\u001b[0m \u001b[32m━━━━━━━━━━━━━━━━━━━━\u001b[0m\u001b[37m\u001b[0m \u001b[1m0s\u001b[0m 6ms/step - loss: 288.7954 - mse: 238206.6094 - val_loss: 378.5781 - val_mse: 409339.3438\n",
      "Epoch 228/300\n",
      "\u001b[1m10/10\u001b[0m \u001b[32m━━━━━━━━━━━━━━━━━━━━\u001b[0m\u001b[37m\u001b[0m \u001b[1m0s\u001b[0m 6ms/step - loss: 348.4015 - mse: 479061.5000 - val_loss: 376.6390 - val_mse: 390612.3438\n",
      "Epoch 229/300\n",
      "\u001b[1m10/10\u001b[0m \u001b[32m━━━━━━━━━━━━━━━━━━━━\u001b[0m\u001b[37m\u001b[0m \u001b[1m0s\u001b[0m 6ms/step - loss: 288.4592 - mse: 216462.1406 - val_loss: 368.2830 - val_mse: 365310.5000\n",
      "Epoch 230/300\n",
      "\u001b[1m10/10\u001b[0m \u001b[32m━━━━━━━━━━━━━━━━━━━━\u001b[0m\u001b[37m\u001b[0m \u001b[1m0s\u001b[0m 6ms/step - loss: 313.0661 - mse: 382597.3438 - val_loss: 367.9469 - val_mse: 383634.6250\n",
      "Epoch 231/300\n",
      "\u001b[1m10/10\u001b[0m \u001b[32m━━━━━━━━━━━━━━━━━━━━\u001b[0m\u001b[37m\u001b[0m \u001b[1m0s\u001b[0m 6ms/step - loss: 314.8374 - mse: 372189.9688 - val_loss: 361.8707 - val_mse: 392943.9062\n",
      "Epoch 232/300\n",
      "\u001b[1m10/10\u001b[0m \u001b[32m━━━━━━━━━━━━━━━━━━━━\u001b[0m\u001b[37m\u001b[0m \u001b[1m0s\u001b[0m 6ms/step - loss: 299.0932 - mse: 307707.5000 - val_loss: 357.8232 - val_mse: 358396.0000\n",
      "Epoch 233/300\n",
      "\u001b[1m10/10\u001b[0m \u001b[32m━━━━━━━━━━━━━━━━━━━━\u001b[0m\u001b[37m\u001b[0m \u001b[1m0s\u001b[0m 6ms/step - loss: 312.1788 - mse: 314264.3438 - val_loss: 350.3015 - val_mse: 364668.0938\n",
      "Epoch 234/300\n",
      "\u001b[1m10/10\u001b[0m \u001b[32m━━━━━━━━━━━━━━━━━━━━\u001b[0m\u001b[37m\u001b[0m \u001b[1m0s\u001b[0m 6ms/step - loss: 326.2430 - mse: 451888.3438 - val_loss: 405.4697 - val_mse: 398973.6875\n",
      "Epoch 235/300\n",
      "\u001b[1m10/10\u001b[0m \u001b[32m━━━━━━━━━━━━━━━━━━━━\u001b[0m\u001b[37m\u001b[0m \u001b[1m0s\u001b[0m 6ms/step - loss: 299.2366 - mse: 218288.0469 - val_loss: 371.5362 - val_mse: 355236.2500\n",
      "Epoch 236/300\n",
      "\u001b[1m10/10\u001b[0m \u001b[32m━━━━━━━━━━━━━━━━━━━━\u001b[0m\u001b[37m\u001b[0m \u001b[1m0s\u001b[0m 6ms/step - loss: 306.5020 - mse: 325048.0000 - val_loss: 375.1424 - val_mse: 364328.8125\n",
      "Epoch 237/300\n",
      "\u001b[1m10/10\u001b[0m \u001b[32m━━━━━━━━━━━━━━━━━━━━\u001b[0m\u001b[37m\u001b[0m \u001b[1m0s\u001b[0m 6ms/step - loss: 321.4182 - mse: 451281.6562 - val_loss: 351.2713 - val_mse: 349377.4062\n",
      "Epoch 238/300\n",
      "\u001b[1m10/10\u001b[0m \u001b[32m━━━━━━━━━━━━━━━━━━━━\u001b[0m\u001b[37m\u001b[0m \u001b[1m0s\u001b[0m 6ms/step - loss: 309.0159 - mse: 299592.1250 - val_loss: 351.3957 - val_mse: 360003.1250\n",
      "Epoch 239/300\n",
      "\u001b[1m10/10\u001b[0m \u001b[32m━━━━━━━━━━━━━━━━━━━━\u001b[0m\u001b[37m\u001b[0m \u001b[1m0s\u001b[0m 6ms/step - loss: 323.3690 - mse: 439957.5312 - val_loss: 362.1984 - val_mse: 363495.1875\n",
      "Epoch 240/300\n",
      "\u001b[1m10/10\u001b[0m \u001b[32m━━━━━━━━━━━━━━━━━━━━\u001b[0m\u001b[37m\u001b[0m \u001b[1m0s\u001b[0m 6ms/step - loss: 269.3344 - mse: 226770.0000 - val_loss: 363.5062 - val_mse: 373063.5312\n",
      "Epoch 241/300\n",
      "\u001b[1m10/10\u001b[0m \u001b[32m━━━━━━━━━━━━━━━━━━━━\u001b[0m\u001b[37m\u001b[0m \u001b[1m0s\u001b[0m 6ms/step - loss: 269.6764 - mse: 206275.6719 - val_loss: 370.8176 - val_mse: 359098.7500\n",
      "Epoch 242/300\n",
      "\u001b[1m10/10\u001b[0m \u001b[32m━━━━━━━━━━━━━━━━━━━━\u001b[0m\u001b[37m\u001b[0m \u001b[1m0s\u001b[0m 6ms/step - loss: 304.0944 - mse: 314961.3438 - val_loss: 369.3046 - val_mse: 388395.5938\n",
      "Epoch 243/300\n",
      "\u001b[1m10/10\u001b[0m \u001b[32m━━━━━━━━━━━━━━━━━━━━\u001b[0m\u001b[37m\u001b[0m \u001b[1m0s\u001b[0m 6ms/step - loss: 299.6033 - mse: 257673.1094 - val_loss: 343.1031 - val_mse: 344217.5000\n",
      "Epoch 244/300\n",
      "\u001b[1m10/10\u001b[0m \u001b[32m━━━━━━━━━━━━━━━━━━━━\u001b[0m\u001b[37m\u001b[0m \u001b[1m0s\u001b[0m 6ms/step - loss: 264.7336 - mse: 174268.5469 - val_loss: 345.9974 - val_mse: 336012.4062\n",
      "Epoch 245/300\n",
      "\u001b[1m10/10\u001b[0m \u001b[32m━━━━━━━━━━━━━━━━━━━━\u001b[0m\u001b[37m\u001b[0m \u001b[1m0s\u001b[0m 6ms/step - loss: 243.2624 - mse: 177218.7812 - val_loss: 372.3348 - val_mse: 372079.2500\n",
      "Epoch 246/300\n",
      "\u001b[1m10/10\u001b[0m \u001b[32m━━━━━━━━━━━━━━━━━━━━\u001b[0m\u001b[37m\u001b[0m \u001b[1m0s\u001b[0m 7ms/step - loss: 274.3621 - mse: 250690.2656 - val_loss: 359.3008 - val_mse: 351082.2812\n",
      "Epoch 247/300\n",
      "\u001b[1m10/10\u001b[0m \u001b[32m━━━━━━━━━━━━━━━━━━━━\u001b[0m\u001b[37m\u001b[0m \u001b[1m0s\u001b[0m 6ms/step - loss: 271.3272 - mse: 179539.7969 - val_loss: 356.5484 - val_mse: 350158.8125\n",
      "Epoch 248/300\n",
      "\u001b[1m10/10\u001b[0m \u001b[32m━━━━━━━━━━━━━━━━━━━━\u001b[0m\u001b[37m\u001b[0m \u001b[1m0s\u001b[0m 6ms/step - loss: 271.1942 - mse: 223933.5469 - val_loss: 347.4472 - val_mse: 359909.5625\n",
      "Epoch 249/300\n",
      "\u001b[1m10/10\u001b[0m \u001b[32m━━━━━━━━━━━━━━━━━━━━\u001b[0m\u001b[37m\u001b[0m \u001b[1m0s\u001b[0m 6ms/step - loss: 306.2970 - mse: 386773.8125 - val_loss: 345.8731 - val_mse: 325311.4062\n",
      "Epoch 250/300\n",
      "\u001b[1m10/10\u001b[0m \u001b[32m━━━━━━━━━━━━━━━━━━━━\u001b[0m\u001b[37m\u001b[0m \u001b[1m0s\u001b[0m 6ms/step - loss: 325.4150 - mse: 445618.5938 - val_loss: 375.6665 - val_mse: 346106.0938\n",
      "Epoch 251/300\n",
      "\u001b[1m10/10\u001b[0m \u001b[32m━━━━━━━━━━━━━━━━━━━━\u001b[0m\u001b[37m\u001b[0m \u001b[1m0s\u001b[0m 6ms/step - loss: 282.9820 - mse: 283793.6250 - val_loss: 347.3917 - val_mse: 352371.6875\n",
      "Epoch 252/300\n",
      "\u001b[1m10/10\u001b[0m \u001b[32m━━━━━━━━━━━━━━━━━━━━\u001b[0m\u001b[37m\u001b[0m \u001b[1m0s\u001b[0m 6ms/step - loss: 261.6973 - mse: 186660.4688 - val_loss: 336.7407 - val_mse: 321535.0625\n",
      "Epoch 253/300\n",
      "\u001b[1m10/10\u001b[0m \u001b[32m━━━━━━━━━━━━━━━━━━━━\u001b[0m\u001b[37m\u001b[0m \u001b[1m0s\u001b[0m 6ms/step - loss: 282.6349 - mse: 222399.7969 - val_loss: 335.9921 - val_mse: 330371.2812\n",
      "Epoch 254/300\n",
      "\u001b[1m10/10\u001b[0m \u001b[32m━━━━━━━━━━━━━━━━━━━━\u001b[0m\u001b[37m\u001b[0m \u001b[1m0s\u001b[0m 6ms/step - loss: 288.2335 - mse: 275559.7812 - val_loss: 345.9948 - val_mse: 332640.9375\n",
      "Epoch 255/300\n",
      "\u001b[1m10/10\u001b[0m \u001b[32m━━━━━━━━━━━━━━━━━━━━\u001b[0m\u001b[37m\u001b[0m \u001b[1m0s\u001b[0m 6ms/step - loss: 252.5597 - mse: 207107.5000 - val_loss: 373.4114 - val_mse: 360353.6875\n",
      "Epoch 256/300\n",
      "\u001b[1m10/10\u001b[0m \u001b[32m━━━━━━━━━━━━━━━━━━━━\u001b[0m\u001b[37m\u001b[0m \u001b[1m0s\u001b[0m 6ms/step - loss: 303.8670 - mse: 289831.9688 - val_loss: 344.9746 - val_mse: 323066.3125\n",
      "Epoch 257/300\n",
      "\u001b[1m10/10\u001b[0m \u001b[32m━━━━━━━━━━━━━━━━━━━━\u001b[0m\u001b[37m\u001b[0m \u001b[1m0s\u001b[0m 6ms/step - loss: 260.7316 - mse: 216760.7344 - val_loss: 337.1935 - val_mse: 327594.6875\n",
      "Epoch 258/300\n",
      "\u001b[1m10/10\u001b[0m \u001b[32m━━━━━━━━━━━━━━━━━━━━\u001b[0m\u001b[37m\u001b[0m \u001b[1m0s\u001b[0m 6ms/step - loss: 286.9769 - mse: 362467.7812 - val_loss: 336.4660 - val_mse: 315467.0625\n",
      "Epoch 259/300\n",
      "\u001b[1m10/10\u001b[0m \u001b[32m━━━━━━━━━━━━━━━━━━━━\u001b[0m\u001b[37m\u001b[0m \u001b[1m0s\u001b[0m 6ms/step - loss: 307.5396 - mse: 439538.7812 - val_loss: 337.4753 - val_mse: 320568.9688\n",
      "Epoch 260/300\n",
      "\u001b[1m10/10\u001b[0m \u001b[32m━━━━━━━━━━━━━━━━━━━━\u001b[0m\u001b[37m\u001b[0m \u001b[1m0s\u001b[0m 6ms/step - loss: 254.4391 - mse: 175206.6562 - val_loss: 342.1772 - val_mse: 338169.3125\n",
      "Epoch 261/300\n",
      "\u001b[1m10/10\u001b[0m \u001b[32m━━━━━━━━━━━━━━━━━━━━\u001b[0m\u001b[37m\u001b[0m \u001b[1m0s\u001b[0m 6ms/step - loss: 251.0209 - mse: 170577.1562 - val_loss: 332.1796 - val_mse: 321048.8125\n",
      "Epoch 262/300\n",
      "\u001b[1m10/10\u001b[0m \u001b[32m━━━━━━━━━━━━━━━━━━━━\u001b[0m\u001b[37m\u001b[0m \u001b[1m0s\u001b[0m 6ms/step - loss: 255.3150 - mse: 183601.2969 - val_loss: 339.9122 - val_mse: 322462.2812\n",
      "Epoch 263/300\n",
      "\u001b[1m10/10\u001b[0m \u001b[32m━━━━━━━━━━━━━━━━━━━━\u001b[0m\u001b[37m\u001b[0m \u001b[1m0s\u001b[0m 6ms/step - loss: 271.1030 - mse: 290470.4375 - val_loss: 348.7237 - val_mse: 322860.0625\n",
      "Epoch 264/300\n",
      "\u001b[1m10/10\u001b[0m \u001b[32m━━━━━━━━━━━━━━━━━━━━\u001b[0m\u001b[37m\u001b[0m \u001b[1m0s\u001b[0m 6ms/step - loss: 251.8555 - mse: 159937.3125 - val_loss: 355.4562 - val_mse: 325711.5938\n",
      "Epoch 265/300\n",
      "\u001b[1m10/10\u001b[0m \u001b[32m━━━━━━━━━━━━━━━━━━━━\u001b[0m\u001b[37m\u001b[0m \u001b[1m0s\u001b[0m 6ms/step - loss: 253.0513 - mse: 158116.7344 - val_loss: 338.2289 - val_mse: 320329.9375\n",
      "Epoch 266/300\n",
      "\u001b[1m10/10\u001b[0m \u001b[32m━━━━━━━━━━━━━━━━━━━━\u001b[0m\u001b[37m\u001b[0m \u001b[1m0s\u001b[0m 7ms/step - loss: 281.5789 - mse: 362248.0312 - val_loss: 328.3495 - val_mse: 306750.8125\n",
      "Epoch 267/300\n",
      "\u001b[1m10/10\u001b[0m \u001b[32m━━━━━━━━━━━━━━━━━━━━\u001b[0m\u001b[37m\u001b[0m \u001b[1m0s\u001b[0m 6ms/step - loss: 260.1577 - mse: 209846.5938 - val_loss: 331.4473 - val_mse: 311588.8438\n",
      "Epoch 268/300\n",
      "\u001b[1m10/10\u001b[0m \u001b[32m━━━━━━━━━━━━━━━━━━━━\u001b[0m\u001b[37m\u001b[0m \u001b[1m0s\u001b[0m 7ms/step - loss: 242.3512 - mse: 134646.8125 - val_loss: 332.9985 - val_mse: 323405.5625\n",
      "Epoch 269/300\n",
      "\u001b[1m10/10\u001b[0m \u001b[32m━━━━━━━━━━━━━━━━━━━━\u001b[0m\u001b[37m\u001b[0m \u001b[1m0s\u001b[0m 7ms/step - loss: 272.9636 - mse: 220915.1094 - val_loss: 337.5951 - val_mse: 324549.7500\n",
      "Epoch 270/300\n",
      "\u001b[1m10/10\u001b[0m \u001b[32m━━━━━━━━━━━━━━━━━━━━\u001b[0m\u001b[37m\u001b[0m \u001b[1m0s\u001b[0m 6ms/step - loss: 256.6516 - mse: 175280.0625 - val_loss: 328.1489 - val_mse: 303600.0625\n",
      "Epoch 271/300\n",
      "\u001b[1m10/10\u001b[0m \u001b[32m━━━━━━━━━━━━━━━━━━━━\u001b[0m\u001b[37m\u001b[0m \u001b[1m0s\u001b[0m 6ms/step - loss: 276.8200 - mse: 261455.5000 - val_loss: 334.4922 - val_mse: 296971.3438\n",
      "Epoch 272/300\n",
      "\u001b[1m10/10\u001b[0m \u001b[32m━━━━━━━━━━━━━━━━━━━━\u001b[0m\u001b[37m\u001b[0m \u001b[1m0s\u001b[0m 6ms/step - loss: 271.4034 - mse: 272732.4375 - val_loss: 326.6568 - val_mse: 314594.1250\n",
      "Epoch 273/300\n",
      "\u001b[1m10/10\u001b[0m \u001b[32m━━━━━━━━━━━━━━━━━━━━\u001b[0m\u001b[37m\u001b[0m \u001b[1m0s\u001b[0m 6ms/step - loss: 241.2699 - mse: 142363.6250 - val_loss: 335.5553 - val_mse: 306622.3750\n",
      "Epoch 274/300\n",
      "\u001b[1m10/10\u001b[0m \u001b[32m━━━━━━━━━━━━━━━━━━━━\u001b[0m\u001b[37m\u001b[0m \u001b[1m0s\u001b[0m 6ms/step - loss: 292.0190 - mse: 285204.3125 - val_loss: 325.8604 - val_mse: 298131.4375\n",
      "Epoch 275/300\n",
      "\u001b[1m10/10\u001b[0m \u001b[32m━━━━━━━━━━━━━━━━━━━━\u001b[0m\u001b[37m\u001b[0m \u001b[1m0s\u001b[0m 6ms/step - loss: 306.3715 - mse: 296721.7188 - val_loss: 347.7686 - val_mse: 300866.8125\n",
      "Epoch 276/300\n",
      "\u001b[1m10/10\u001b[0m \u001b[32m━━━━━━━━━━━━━━━━━━━━\u001b[0m\u001b[37m\u001b[0m \u001b[1m0s\u001b[0m 6ms/step - loss: 291.8499 - mse: 373875.5312 - val_loss: 335.7114 - val_mse: 329862.5000\n",
      "Epoch 277/300\n",
      "\u001b[1m10/10\u001b[0m \u001b[32m━━━━━━━━━━━━━━━━━━━━\u001b[0m\u001b[37m\u001b[0m \u001b[1m0s\u001b[0m 6ms/step - loss: 247.7519 - mse: 170044.8281 - val_loss: 346.2458 - val_mse: 299391.0000\n",
      "Epoch 278/300\n",
      "\u001b[1m10/10\u001b[0m \u001b[32m━━━━━━━━━━━━━━━━━━━━\u001b[0m\u001b[37m\u001b[0m \u001b[1m0s\u001b[0m 6ms/step - loss: 278.7021 - mse: 272384.3750 - val_loss: 325.4140 - val_mse: 302684.4062\n",
      "Epoch 279/300\n",
      "\u001b[1m10/10\u001b[0m \u001b[32m━━━━━━━━━━━━━━━━━━━━\u001b[0m\u001b[37m\u001b[0m \u001b[1m0s\u001b[0m 6ms/step - loss: 263.0835 - mse: 228181.4062 - val_loss: 336.6608 - val_mse: 321821.3438\n",
      "Epoch 280/300\n",
      "\u001b[1m10/10\u001b[0m \u001b[32m━━━━━━━━━━━━━━━━━━━━\u001b[0m\u001b[37m\u001b[0m \u001b[1m0s\u001b[0m 6ms/step - loss: 276.1491 - mse: 250043.8125 - val_loss: 313.3362 - val_mse: 287120.1562\n",
      "Epoch 281/300\n",
      "\u001b[1m10/10\u001b[0m \u001b[32m━━━━━━━━━━━━━━━━━━━━\u001b[0m\u001b[37m\u001b[0m \u001b[1m0s\u001b[0m 6ms/step - loss: 261.2795 - mse: 195027.9219 - val_loss: 339.5818 - val_mse: 296890.4375\n",
      "Epoch 282/300\n",
      "\u001b[1m10/10\u001b[0m \u001b[32m━━━━━━━━━━━━━━━━━━━━\u001b[0m\u001b[37m\u001b[0m \u001b[1m0s\u001b[0m 6ms/step - loss: 253.4766 - mse: 277308.2812 - val_loss: 323.6312 - val_mse: 296505.0625\n",
      "Epoch 283/300\n",
      "\u001b[1m10/10\u001b[0m \u001b[32m━━━━━━━━━━━━━━━━━━━━\u001b[0m\u001b[37m\u001b[0m \u001b[1m0s\u001b[0m 7ms/step - loss: 248.7192 - mse: 203132.1250 - val_loss: 332.9534 - val_mse: 298923.8438\n",
      "Epoch 284/300\n",
      "\u001b[1m10/10\u001b[0m \u001b[32m━━━━━━━━━━━━━━━━━━━━\u001b[0m\u001b[37m\u001b[0m \u001b[1m0s\u001b[0m 6ms/step - loss: 253.1649 - mse: 185750.9844 - val_loss: 324.8582 - val_mse: 296057.0000\n",
      "Epoch 285/300\n",
      "\u001b[1m10/10\u001b[0m \u001b[32m━━━━━━━━━━━━━━━━━━━━\u001b[0m\u001b[37m\u001b[0m \u001b[1m0s\u001b[0m 7ms/step - loss: 216.9716 - mse: 112244.9453 - val_loss: 311.6301 - val_mse: 280101.0938\n",
      "Epoch 286/300\n",
      "\u001b[1m10/10\u001b[0m \u001b[32m━━━━━━━━━━━━━━━━━━━━\u001b[0m\u001b[37m\u001b[0m \u001b[1m0s\u001b[0m 7ms/step - loss: 250.6346 - mse: 226012.7656 - val_loss: 321.5350 - val_mse: 294933.3125\n",
      "Epoch 287/300\n",
      "\u001b[1m10/10\u001b[0m \u001b[32m━━━━━━━━━━━━━━━━━━━━\u001b[0m\u001b[37m\u001b[0m \u001b[1m0s\u001b[0m 6ms/step - loss: 232.1302 - mse: 158763.5625 - val_loss: 326.8169 - val_mse: 289498.1875\n",
      "Epoch 288/300\n",
      "\u001b[1m10/10\u001b[0m \u001b[32m━━━━━━━━━━━━━━━━━━━━\u001b[0m\u001b[37m\u001b[0m \u001b[1m0s\u001b[0m 6ms/step - loss: 280.2643 - mse: 308777.5312 - val_loss: 319.4151 - val_mse: 270042.3125\n",
      "Epoch 289/300\n",
      "\u001b[1m10/10\u001b[0m \u001b[32m━━━━━━━━━━━━━━━━━━━━\u001b[0m\u001b[37m\u001b[0m \u001b[1m0s\u001b[0m 7ms/step - loss: 269.3334 - mse: 223660.1406 - val_loss: 331.6450 - val_mse: 316036.1250\n",
      "Epoch 290/300\n",
      "\u001b[1m10/10\u001b[0m \u001b[32m━━━━━━━━━━━━━━━━━━━━\u001b[0m\u001b[37m\u001b[0m \u001b[1m0s\u001b[0m 6ms/step - loss: 294.4279 - mse: 295173.9062 - val_loss: 315.3338 - val_mse: 292562.0625\n",
      "Epoch 291/300\n",
      "\u001b[1m10/10\u001b[0m \u001b[32m━━━━━━━━━━━━━━━━━━━━\u001b[0m\u001b[37m\u001b[0m \u001b[1m0s\u001b[0m 6ms/step - loss: 293.2255 - mse: 306414.1562 - val_loss: 333.1676 - val_mse: 297361.3438\n",
      "Epoch 292/300\n",
      "\u001b[1m10/10\u001b[0m \u001b[32m━━━━━━━━━━━━━━━━━━━━\u001b[0m\u001b[37m\u001b[0m \u001b[1m0s\u001b[0m 6ms/step - loss: 289.3965 - mse: 275471.4375 - val_loss: 323.2787 - val_mse: 285139.4375\n",
      "Epoch 293/300\n",
      "\u001b[1m10/10\u001b[0m \u001b[32m━━━━━━━━━━━━━━━━━━━━\u001b[0m\u001b[37m\u001b[0m \u001b[1m0s\u001b[0m 6ms/step - loss: 262.1854 - mse: 196516.1719 - val_loss: 334.5547 - val_mse: 290842.5000\n",
      "Epoch 294/300\n",
      "\u001b[1m10/10\u001b[0m \u001b[32m━━━━━━━━━━━━━━━━━━━━\u001b[0m\u001b[37m\u001b[0m \u001b[1m0s\u001b[0m 6ms/step - loss: 258.0049 - mse: 217590.5000 - val_loss: 312.4928 - val_mse: 272811.1250\n",
      "Epoch 295/300\n",
      "\u001b[1m10/10\u001b[0m \u001b[32m━━━━━━━━━━━━━━━━━━━━\u001b[0m\u001b[37m\u001b[0m \u001b[1m0s\u001b[0m 6ms/step - loss: 242.7796 - mse: 200241.4219 - val_loss: 315.2761 - val_mse: 279005.3750\n",
      "Epoch 296/300\n",
      "\u001b[1m10/10\u001b[0m \u001b[32m━━━━━━━━━━━━━━━━━━━━\u001b[0m\u001b[37m\u001b[0m \u001b[1m0s\u001b[0m 7ms/step - loss: 234.0587 - mse: 133772.3906 - val_loss: 360.1295 - val_mse: 305886.0625\n",
      "Epoch 297/300\n",
      "\u001b[1m10/10\u001b[0m \u001b[32m━━━━━━━━━━━━━━━━━━━━\u001b[0m\u001b[37m\u001b[0m \u001b[1m0s\u001b[0m 6ms/step - loss: 248.1742 - mse: 125394.0078 - val_loss: 309.8629 - val_mse: 291802.9375\n",
      "Epoch 298/300\n",
      "\u001b[1m10/10\u001b[0m \u001b[32m━━━━━━━━━━━━━━━━━━━━\u001b[0m\u001b[37m\u001b[0m \u001b[1m0s\u001b[0m 6ms/step - loss: 238.4236 - mse: 131615.5469 - val_loss: 313.9218 - val_mse: 269351.1875\n",
      "Epoch 299/300\n",
      "\u001b[1m10/10\u001b[0m \u001b[32m━━━━━━━━━━━━━━━━━━━━\u001b[0m\u001b[37m\u001b[0m \u001b[1m0s\u001b[0m 7ms/step - loss: 232.3060 - mse: 129179.8438 - val_loss: 320.5791 - val_mse: 289651.9375\n",
      "Epoch 300/300\n",
      "\u001b[1m10/10\u001b[0m \u001b[32m━━━━━━━━━━━━━━━━━━━━\u001b[0m\u001b[37m\u001b[0m \u001b[1m0s\u001b[0m 7ms/step - loss: 267.7536 - mse: 252177.4688 - val_loss: 319.4327 - val_mse: 272129.8750\n"
     ]
    }
   ],
   "source": [
    "history = model.fit(X_train, y_train, epochs=300, validation_split=0.2)"
   ]
  },
  {
   "cell_type": "markdown",
   "id": "407c4226",
   "metadata": {
    "papermill": {
     "duration": 0.058099,
     "end_time": "2025-03-11T15:13:58.680700",
     "exception": false,
     "start_time": "2025-03-11T15:13:58.622601",
     "status": "completed"
    },
    "tags": []
   },
   "source": [
    "# Evaluation"
   ]
  },
  {
   "cell_type": "code",
   "execution_count": 22,
   "id": "49950b44",
   "metadata": {
    "execution": {
     "iopub.execute_input": "2025-03-11T15:13:58.809124Z",
     "iopub.status.busy": "2025-03-11T15:13:58.808687Z",
     "iopub.status.idle": "2025-03-11T15:13:59.011065Z",
     "shell.execute_reply": "2025-03-11T15:13:59.009481Z"
    },
    "papermill": {
     "duration": 0.269978,
     "end_time": "2025-03-11T15:13:59.013386",
     "exception": false,
     "start_time": "2025-03-11T15:13:58.743408",
     "status": "completed"
    },
    "tags": []
   },
   "outputs": [
    {
     "data": {
      "text/plain": [
       "Text(0, 0.5, 'Loss')"
      ]
     },
     "execution_count": 22,
     "metadata": {},
     "output_type": "execute_result"
    },
    {
     "data": {
      "image/png": "[encoded data removed]",
      "text/plain": [
       "<Figure size 640x480 with 1 Axes>"
      ]
     },
     "metadata": {},
     "output_type": "display_data"
    }
   ],
   "source": [
    "plt.plot(history.history['loss'])\n",
    "plt.xlabel('Epochs')\n",
    "plt.ylabel('Loss')"
   ]
  },
  {
   "cell_type": "code",
   "execution_count": 23,
   "id": "136dad11",
   "metadata": {
    "execution": {
     "iopub.execute_input": "2025-03-11T15:13:59.140448Z",
     "iopub.status.busy": "2025-03-11T15:13:59.140046Z",
     "iopub.status.idle": "2025-03-11T15:13:59.188875Z",
     "shell.execute_reply": "2025-03-11T15:13:59.187706Z"
    },
    "papermill": {
     "duration": 0.113746,
     "end_time": "2025-03-11T15:13:59.191514",
     "exception": false,
     "start_time": "2025-03-11T15:13:59.077768",
     "status": "completed"
    },
    "tags": []
   },
   "outputs": [],
   "source": [
    "model.save('model.h5')"
   ]
  },
  {
   "cell_type": "code",
   "execution_count": null,
   "id": "67edcaf2",
   "metadata": {
    "papermill": {
     "duration": 0.061459,
     "end_time": "2025-03-11T15:13:59.315118",
     "exception": false,
     "start_time": "2025-03-11T15:13:59.253659",
     "status": "completed"
    },
    "tags": []
   },
   "outputs": [],
   "source": []
  }
 ],
 "metadata": {
  "kaggle": {
   "accelerator": "none",
   "dataSources": [
    {
     "datasetId": 2515235,
     "sourceId": 4268549,
     "sourceType": "datasetVersion"
    }
   ],
   "dockerImageVersionId": 30918,
   "isGpuEnabled": false,
   "isInternetEnabled": true,
   "language": "python",
   "sourceType": "notebook"
  },
  "kernelspec": {
   "display_name": "Python 3",
   "language": "python",
   "name": "python3"
  },
  "language_info": {
   "codemirror_mode": {
    "name": "ipython",
    "version": 3
   },
   "file_extension": ".py",
   "mimetype": "text/x-python",
   "name": "python",
   "nbconvert_exporter": "python",
   "pygments_lexer": "ipython3",
   "version": "3.10.12"
  },
  "papermill": {
   "default_parameters": {},
   "duration": 57.668342,
   "end_time": "2025-03-11T15:14:02.138105",
   "environment_variables": {},
   "exception": null,
   "input_path": "__notebook__.ipynb",
   "output_path": "__notebook__.ipynb",
   "parameters": {},
   "start_time": "2025-03-11T15:13:04.469763",
   "version": "2.6.0"
  }
 },
 "nbformat": 4,
 "nbformat_minor": 5
}
